{
 "cells": [
  {
   "cell_type": "code",
   "execution_count": null,
   "metadata": {},
   "outputs": [],
   "source": [
    "import os, glob\n",
    "import pandas as pd \n",
    "from EvAlgo_serious import GA"
   ]
  },
  {
   "cell_type": "code",
   "execution_count": null,
   "metadata": {},
   "outputs": [],
   "source": [
    "class MyGA(GA):\n",
    "\n",
    "\n",
    "     def __init__(self, popSize, nGenerations, nVar, nObj, toKeep):\n",
    "          super().__init__(popSize=popSize, nGenerations=nGenerations, nVar=nVar, nObj=nObj, toKeep=toKeep, nParents=20)\n",
    "          self.idxGen = 0\n",
    "\n",
    "     def execute(self):\n",
    "          def myfunct(x):\n",
    "               return sum(x),x\n",
    "               \n",
    "          for i in range(self.nGenerations):    \n",
    "               # Generate the first generation\n",
    "               super().popolate()\n",
    "               super().evaluate(function=myfunct)\n",
    "               super().survival(sortBy='Eval')\n",
    "               self.idxGen += 1\n",
    "     \n",
    "     def reset(self):\n",
    "          csvsfiles = glob.glob('*.csv')\n",
    "          for file in csvsfiles:\n",
    "               os.remove(file)\n"
   ]
  },
  {
   "cell_type": "code",
   "execution_count": null,
   "metadata": {},
   "outputs": [],
   "source": [
    "optimizer = MyGA(popSize=100, nGenerations=10, nVar=6, nObj=1, toKeep=5)"
   ]
  },
  {
   "cell_type": "code",
   "execution_count": null,
   "metadata": {},
   "outputs": [],
   "source": [
    "optimizer.execute()"
   ]
  },
  {
   "cell_type": "code",
   "execution_count": null,
   "metadata": {},
   "outputs": [],
   "source": [
    "optimizer.reset()"
   ]
  }
 ],
 "metadata": {
  "interpreter": {
   "hash": "be0e42a7a9f7b1d574883233897c7512607bd70eaa900408a3f026078b63c69c"
  },
  "kernelspec": {
   "display_name": "Python 3.7.11 64-bit ('pyrosar': conda)",
   "language": "python",
   "name": "python3"
  },
  "language_info": {
   "codemirror_mode": {
    "name": "ipython",
    "version": 3
   },
   "file_extension": ".py",
   "mimetype": "text/x-python",
   "name": "python",
   "nbconvert_exporter": "python",
   "pygments_lexer": "ipython3",
   "version": "3.9.7"
  },
  "orig_nbformat": 4
 },
 "nbformat": 4,
 "nbformat_minor": 2
}
