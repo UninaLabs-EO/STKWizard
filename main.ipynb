{
 "cells": [
  {
   "cell_type": "code",
   "execution_count": 1,
   "metadata": {},
   "outputs": [
    {
     "name": "stdout",
     "output_type": "stream",
     "text": [
      "Connection execution successfully\n"
     ]
    }
   ],
   "source": [
    "from STKBridge.Connection import STK\n",
    "from comtypes.gen import STKObjects, STKUtil\n",
    "\n",
    "Stk = STK()"
   ]
  },
  {
   "cell_type": "code",
   "execution_count": 2,
   "metadata": {},
   "outputs": [],
   "source": [
    "root=Stk.root"
   ]
  },
  {
   "cell_type": "code",
   "execution_count": 3,
   "metadata": {},
   "outputs": [
    {
     "name": "stdout",
     "output_type": "stream",
     "text": [
      "Satellite Added!\n"
     ]
    }
   ],
   "source": [
    "Stk.addSatellite(SatName='Seed', params={'a':7000, 'e':0,'i':96, 'w':0, 'RAAN':0, 'M':10.5})"
   ]
  },
  {
   "cell_type": "code",
   "execution_count": null,
   "metadata": {},
   "outputs": [],
   "source": []
  },
  {
   "cell_type": "code",
   "execution_count": null,
   "metadata": {},
   "outputs": [],
   "source": []
  },
  {
   "cell_type": "code",
   "execution_count": null,
   "metadata": {},
   "outputs": [],
   "source": []
  },
  {
   "cell_type": "code",
   "execution_count": null,
   "metadata": {},
   "outputs": [],
   "source": []
  },
  {
   "cell_type": "code",
   "execution_count": null,
   "metadata": {},
   "outputs": [],
   "source": []
  },
  {
   "cell_type": "code",
   "execution_count": null,
   "metadata": {},
   "outputs": [],
   "source": []
  },
  {
   "cell_type": "code",
   "execution_count": null,
   "metadata": {},
   "outputs": [],
   "source": []
  },
  {
   "cell_type": "code",
   "execution_count": null,
   "metadata": {},
   "outputs": [],
   "source": []
  },
  {
   "cell_type": "markdown",
   "metadata": {},
   "source": [
    "# Get Object by name"
   ]
  },
  {
   "cell_type": "code",
   "execution_count": null,
   "metadata": {},
   "outputs": [],
   "source": [
    "Walk = root.CurrentScenario.Children(\"Walk\") # Get Walker object from scenario opened.\n",
    "Walk.InstanceName # Check."
   ]
  },
  {
   "cell_type": "markdown",
   "metadata": {},
   "source": [
    "# Add Satellite+Sensor To Sat"
   ]
  },
  {
   "cell_type": "code",
   "execution_count": null,
   "metadata": {},
   "outputs": [],
   "source": [
    "# First satellite object must be created:\n",
    "sat = root.CurrentScenario.Children.New(18, 'MySatellite')  # eSatellite\n",
    "# IAgStkObjectRoot root: STK Object Model Root\n",
    "satellite = sat.QueryInterface(STKObjects.IAgSatellite) # Interface\n",
    "root.ExecuteCommand('SetUnits / km') # Default Connect Units are meters\n",
    "root.ExecuteCommand('SetState */Satellite/MySatellite Cartesian J4Perturbation \"UseAnalysisStartTime\" \"UseAnalysisStopTime\" 60 ICRF \"UseAnalysisStartTime\" 6678.14 0 0 0 6.78953 3.68641')"
   ]
  },
  {
   "cell_type": "code",
   "execution_count": null,
   "metadata": {},
   "outputs": [],
   "source": [
    "# sensor = <satellite_name>.Children.New(STKObjects.eSensor,'MySensor')\n",
    "sensor = Walk.Children.New(20,'MySensor') # eSensor\n",
    "sensor2 = sensor.QueryInterface(STKObjects.IAgSensor)\n",
    "# IAgSensor sensor: Sensor object\n",
    "# Change pattern and set\n",
    "# sensor2.CommonTasks.SetPatternRectangular(20,25)\n",
    "sensor2.CommonTasks.SetPatternSimpleConic(ConeAngle=10, AngularResolution=0.1)\n",
    "# Change pointing and set\n",
    "sensor2.CommonTasks.SetPointingFixedAzEl(90,-90,1) # eAzElAboutBoresightRotate\n",
    "# Change location and set\n",
    "# sensor2.SetLocationType(0) # eSnFixed"
   ]
  },
  {
   "cell_type": "code",
   "execution_count": null,
   "metadata": {},
   "outputs": [],
   "source": [
    "# Generate Walker-Delta:\n",
    "cmd = 'Walker */Satellite/MySatellite Type Custom NumPlanes 2 NumSatsPerPlane 2 InterPlaneTrueAnomalyIncrement 30.0 RAANIncrement 180.0 ColorByPlane No ConstellationName MyConst'\n",
    "root.ExecuteCommand(cmd)"
   ]
  },
  {
   "cell_type": "code",
   "execution_count": null,
   "metadata": {},
   "outputs": [],
   "source": []
  },
  {
   "cell_type": "code",
   "execution_count": null,
   "metadata": {},
   "outputs": [],
   "source": []
  },
  {
   "cell_type": "code",
   "execution_count": null,
   "metadata": {},
   "outputs": [],
   "source": []
  }
 ],
 "metadata": {
  "interpreter": {
   "hash": "202e2045b49958a074948b2e0c285a85bcb40cad1161c0d9c8c38fa298e2ad79"
  },
  "kernelspec": {
   "display_name": "Python 3.9.7 64-bit ('SatWiz': conda)",
   "language": "python",
   "name": "python3"
  },
  "language_info": {
   "codemirror_mode": {
    "name": "ipython",
    "version": 3
   },
   "file_extension": ".py",
   "mimetype": "text/x-python",
   "name": "python",
   "nbconvert_exporter": "python",
   "pygments_lexer": "ipython3",
   "version": "3.9.7"
  },
  "orig_nbformat": 4
 },
 "nbformat": 4,
 "nbformat_minor": 2
}
