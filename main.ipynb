{
 "cells": [
  {
   "cell_type": "code",
   "execution_count": 1,
   "metadata": {},
   "outputs": [
    {
     "name": "stdout",
     "output_type": "stream",
     "text": [
      "Connection execution successfully\n"
     ]
    }
   ],
   "source": [
    "from STKBridge.Connection import STK\n",
    "from comtypes.gen import STKObjects, STKUtil\n",
    "\n",
    "Stk = STK()\n",
    "root=Stk.root"
   ]
  },
  {
   "cell_type": "code",
   "execution_count": 2,
   "metadata": {},
   "outputs": [
    {
     "name": "stdout",
     "output_type": "stream",
     "text": [
      "Satellite Added!\n",
      "Object: mysat fetched.\n"
     ]
    }
   ],
   "source": [
    "Stk.addSatellite(SatName='mysat', params={'a':6828.14, 'e':0,'i':99, 'w':0, 'RAAN':80, 'M':10.5})\n",
    "Stk.addSensor(SatName='mysat', SenName='Sensor1', params={'coneAngle':15, 'angularResolution':0.1, 'AzEl':[90,-90], 'maxRange':1200})\n",
    "# Stk.WalkerDelta(SatName='mysat', params={'NumPlanes':1, 'NumSatsPerPlane':10, 'InterPlaneTrueAnomalyIncrement': 5, 'RAANIncrement': 15, 'ColorByPlane': 'Yes', 'ConstellationName':'Sensors'})\n",
    "Stk.WalkerDelta(SatName='mysat', params={'NumPlanes':1, 'NumSatsPerPlane':10, 'InterPlaneTrueAnomalyIncrement': 5, 'RAANIncrement': 15, 'ColorByPlane': 'Yes'})"
   ]
  },
  {
   "cell_type": "code",
   "execution_count": 11,
   "metadata": {},
   "outputs": [],
   "source": [
    "constellation = root.CurrentScenario.Children.New(6, 'Sensors')  # eConstellation\n",
    "constellation2 = constellation.QueryInterface(STKObjects.IAgConstellation)\n",
    "\n",
    "def AuxilPlanes(N: int):\n",
    "     assert N > -1\n",
    "     if N < 9:\n",
    "          stringa = '0'+str(N+1)\n",
    "          return stringa\n",
    "     else:\n",
    "          return str(N+1)\n",
    "Planes=1\n",
    "NumSatsPerPlane=10          \n",
    "for p in range(Planes):\n",
    "     for n in range(NumSatsPerPlane):\n",
    "          constellation2.Objects.Add(f'*/Satellite/mysat{str(p+1)}{AuxilPlanes(n)}/Sensor/Sensor1')"
   ]
  },
  {
   "cell_type": "code",
   "execution_count": 42,
   "metadata": {},
   "outputs": [],
   "source": [
    "chain = root.CurrentScenario.Children.New(4, 'Chain')  # eChain"
   ]
  },
  {
   "cell_type": "code",
   "execution_count": 44,
   "metadata": {},
   "outputs": [],
   "source": [
    "chain2 = chain.QueryInterface(STKObjects.IAgChain)"
   ]
  },
  {
   "cell_type": "code",
   "execution_count": 47,
   "metadata": {},
   "outputs": [
    {
     "data": {
      "text/plain": [
       "0"
      ]
     },
     "execution_count": 47,
     "metadata": {},
     "output_type": "execute_result"
    }
   ],
   "source": [
    "chain2.ClearAccess()\n",
    "chain2.Objects.Add('Constellation/AllUsers')\n",
    "chain2.Objects.Add('Constellation/Sensors')"
   ]
  },
  {
   "cell_type": "code",
   "execution_count": 81,
   "metadata": {},
   "outputs": [
    {
     "data": {
      "text/plain": [
       "0"
      ]
     },
     "execution_count": 81,
     "metadata": {},
     "output_type": "execute_result"
    }
   ],
   "source": [
    "# Compute the chain\n",
    "chain2.ComputeAccess()"
   ]
  },
  {
   "cell_type": "code",
   "execution_count": 62,
   "metadata": {},
   "outputs": [],
   "source": [
    "objectParticipationIntervals = chain.Vgt.EventIntervalCollections.Item('StrandAccessIntervals')\n",
    "intervalListResult = objectParticipationIntervals.FindIntervalCollection()\n",
    "collegamenti=list(objectParticipationIntervals.Labels) # Collegamenti"
   ]
  },
  {
   "cell_type": "code",
   "execution_count": 66,
   "metadata": {},
   "outputs": [],
   "source": [
    "for i in range(0, intervalListResult.IntervalCollections.Count):\n",
    "     if intervalListResult.IsValid:\n",
    "          print(f'Link Name: {collegamenti[i]}')     \n",
    "          print('--------------')\n",
    "          "
   ]
  },
  {
   "cell_type": "code",
   "execution_count": 74,
   "metadata": {},
   "outputs": [
    {
     "data": {
      "text/plain": [
       "1440"
      ]
     },
     "execution_count": 74,
     "metadata": {},
     "output_type": "execute_result"
    }
   ],
   "source": [
    "intervalListResult.IntervalCollections.Count"
   ]
  },
  {
   "cell_type": "code",
   "execution_count": 80,
   "metadata": {},
   "outputs": [
    {
     "data": {
      "text/plain": [
       "0"
      ]
     },
     "execution_count": 80,
     "metadata": {},
     "output_type": "execute_result"
    }
   ],
   "source": [
    "i=455\n",
    "intervalListResult.IntervalCollections.Item(i).Count"
   ]
  },
  {
   "cell_type": "code",
   "execution_count": 56,
   "metadata": {},
   "outputs": [
    {
     "data": {
      "text/plain": [
       "['AddRef',\n",
       " 'FindIntervalCollection',\n",
       " 'Labels',\n",
       " 'Occurred',\n",
       " 'QueryInterface',\n",
       " 'Release',\n",
       " 'Type',\n",
       " '_AddRef',\n",
       " '_IAgCrdnEventIntervalCollection__com_FindIntervalCollection',\n",
       " '_IAgCrdnEventIntervalCollection__com_Occurred',\n",
       " '_IAgCrdnEventIntervalCollection__com__get_Labels',\n",
       " '_IAgCrdnEventIntervalCollection__com__get_Type',\n",
       " '_IUnknown__com_AddRef',\n",
       " '_IUnknown__com_QueryInterface',\n",
       " '_IUnknown__com_Release',\n",
       " '_QueryInterface',\n",
       " '_Release',\n",
       " '__bool__',\n",
       " '__class__',\n",
       " '__cmp__',\n",
       " '__com_interface__',\n",
       " '__ctypes_from_outparam__',\n",
       " '__del__',\n",
       " '__delattr__',\n",
       " '__dict__',\n",
       " '__dir__',\n",
       " '__doc__',\n",
       " '__eq__',\n",
       " '__format__',\n",
       " '__ge__',\n",
       " '__getattr__',\n",
       " '__getattribute__',\n",
       " '__gt__',\n",
       " '__hash__',\n",
       " '__init__',\n",
       " '__init_subclass__',\n",
       " '__le__',\n",
       " '__lt__',\n",
       " '__map_case__',\n",
       " '__module__',\n",
       " '__ne__',\n",
       " '__new__',\n",
       " '__reduce__',\n",
       " '__reduce_ex__',\n",
       " '__repr__',\n",
       " '__setattr__',\n",
       " '__setstate__',\n",
       " '__sizeof__',\n",
       " '__str__',\n",
       " '__subclasshook__',\n",
       " '__weakref__',\n",
       " '_b_base_',\n",
       " '_b_needsfree_',\n",
       " '_case_insensitive_',\n",
       " '_compointer_base__get_value',\n",
       " '_idlflags_',\n",
       " '_iid_',\n",
       " '_methods_',\n",
       " '_needs_com_addref_',\n",
       " '_objects',\n",
       " '_type_',\n",
       " 'from_param',\n",
       " 'value']"
      ]
     },
     "execution_count": 56,
     "metadata": {},
     "output_type": "execute_result"
    }
   ],
   "source": [
    "dir(objectParticipationIntervals)"
   ]
  },
  {
   "cell_type": "code",
   "execution_count": 54,
   "metadata": {},
   "outputs": [
    {
     "ename": "TypeError",
     "evalue": "'tuple' object is not callable",
     "output_type": "error",
     "traceback": [
      "\u001b[1;31m---------------------------------------------------------------------------\u001b[0m",
      "\u001b[1;31mTypeError\u001b[0m                                 Traceback (most recent call last)",
      "\u001b[1;32m~\\AppData\\Local\\Temp/ipykernel_20588/1667080293.py\u001b[0m in \u001b[0;36m<module>\u001b[1;34m\u001b[0m\n\u001b[0;32m      3\u001b[0m     \u001b[1;32mif\u001b[0m \u001b[0mintervalListResult\u001b[0m\u001b[1;33m.\u001b[0m\u001b[0mIsValid\u001b[0m\u001b[1;33m:\u001b[0m\u001b[1;33m\u001b[0m\u001b[1;33m\u001b[0m\u001b[0m\n\u001b[0;32m      4\u001b[0m \u001b[1;33m\u001b[0m\u001b[0m\n\u001b[1;32m----> 5\u001b[1;33m         \u001b[0mprint\u001b[0m\u001b[1;33m(\u001b[0m\u001b[1;34m'Link Name: %s'\u001b[0m \u001b[1;33m%\u001b[0m \u001b[0mobjectParticipationIntervals\u001b[0m\u001b[1;33m.\u001b[0m\u001b[0mLabels\u001b[0m\u001b[1;33m(\u001b[0m\u001b[0mi\u001b[0m \u001b[1;33m+\u001b[0m \u001b[1;36m1\u001b[0m\u001b[1;33m)\u001b[0m\u001b[1;33m)\u001b[0m\u001b[1;33m\u001b[0m\u001b[1;33m\u001b[0m\u001b[0m\n\u001b[0m\u001b[0;32m      6\u001b[0m         \u001b[0mprint\u001b[0m\u001b[1;33m(\u001b[0m\u001b[1;34m'--------------'\u001b[0m\u001b[1;33m)\u001b[0m\u001b[1;33m\u001b[0m\u001b[1;33m\u001b[0m\u001b[0m\n\u001b[0;32m      7\u001b[0m         \u001b[1;32mfor\u001b[0m \u001b[0mj\u001b[0m \u001b[1;32min\u001b[0m \u001b[0mrange\u001b[0m\u001b[1;33m(\u001b[0m\u001b[1;36m0\u001b[0m\u001b[1;33m,\u001b[0m \u001b[0mintervalListResult\u001b[0m\u001b[1;33m.\u001b[0m\u001b[0mIntervalCollections\u001b[0m\u001b[1;33m.\u001b[0m\u001b[0mItem\u001b[0m\u001b[1;33m(\u001b[0m\u001b[0mi\u001b[0m\u001b[1;33m)\u001b[0m\u001b[1;33m.\u001b[0m\u001b[0mCount\u001b[0m\u001b[1;33m)\u001b[0m\u001b[1;33m:\u001b[0m\u001b[1;33m\u001b[0m\u001b[1;33m\u001b[0m\u001b[0m\n",
      "\u001b[1;31mTypeError\u001b[0m: 'tuple' object is not callable"
     ]
    }
   ],
   "source": [
    "for i in range(0, intervalListResult.IntervalCollections.Count):\n",
    "\n",
    "    if intervalListResult.IsValid:\n",
    "\n",
    "        print('Link Name: %s' % objectParticipationIntervals.Labels(i + 1))\n",
    "        print('--------------')\n",
    "        for j in range(0, intervalListResult.IntervalCollections.Item(i).Count):\n",
    "\n",
    "            startTime = intervalListResult.IntervalCollections.Item(i).Item(j).Start\n",
    "            stopTime = intervalListResult.IntervalCollections.Item(i).Item(j).Stop\n",
    "            print('Start: %s Stop: %s' % (startTime, stopTime))"
   ]
  },
  {
   "cell_type": "code",
   "execution_count": 51,
   "metadata": {},
   "outputs": [
    {
     "data": {
      "text/plain": [
       "['AccessConstraints',\n",
       " 'AddRef',\n",
       " 'CentralBodyName',\n",
       " 'Children',\n",
       " 'ClassName',\n",
       " 'ClassType',\n",
       " 'CopyObject',\n",
       " 'CreateOnePointAccess',\n",
       " 'DataProviders',\n",
       " 'Export',\n",
       " 'GetAccess',\n",
       " 'GetAccessToObject',\n",
       " 'HasChildren',\n",
       " 'InstanceName',\n",
       " 'IsAccessSupported',\n",
       " 'IsObjectCoverageSupported',\n",
       " 'IsVgtSupported',\n",
       " 'LongDescription',\n",
       " 'Metadata',\n",
       " 'ObjectCoverage',\n",
       " 'ObjectFiles',\n",
       " 'Parent',\n",
       " 'Path',\n",
       " 'QueryInterface',\n",
       " 'Release',\n",
       " 'Root',\n",
       " 'ShortDescription',\n",
       " 'Unload',\n",
       " 'Vgt',\n",
       " '_AddRef',\n",
       " '_IAgStkObject__com_CopyObject',\n",
       " '_IAgStkObject__com_CreateOnePointAccess',\n",
       " '_IAgStkObject__com_Export',\n",
       " '_IAgStkObject__com_GetAccess',\n",
       " '_IAgStkObject__com_GetAccessToObject',\n",
       " '_IAgStkObject__com_IsAccessSupported',\n",
       " '_IAgStkObject__com_IsObjectCoverageSupported',\n",
       " '_IAgStkObject__com_IsVgtSupported',\n",
       " '_IAgStkObject__com_Unload',\n",
       " '_IAgStkObject__com__get_AccessConstraints',\n",
       " '_IAgStkObject__com__get_CentralBodyName',\n",
       " '_IAgStkObject__com__get_Children',\n",
       " '_IAgStkObject__com__get_ClassName',\n",
       " '_IAgStkObject__com__get_ClassType',\n",
       " '_IAgStkObject__com__get_DataProviders',\n",
       " '_IAgStkObject__com__get_HasChildren',\n",
       " '_IAgStkObject__com__get_InstanceName',\n",
       " '_IAgStkObject__com__get_LongDescription',\n",
       " '_IAgStkObject__com__get_Metadata',\n",
       " '_IAgStkObject__com__get_ObjectCoverage',\n",
       " '_IAgStkObject__com__get_ObjectFiles',\n",
       " '_IAgStkObject__com__get_Parent',\n",
       " '_IAgStkObject__com__get_Path',\n",
       " '_IAgStkObject__com__get_Root',\n",
       " '_IAgStkObject__com__get_ShortDescription',\n",
       " '_IAgStkObject__com__get_Vgt',\n",
       " '_IAgStkObject__com__set_InstanceName',\n",
       " '_IAgStkObject__com__set_LongDescription',\n",
       " '_IAgStkObject__com__set_ShortDescription',\n",
       " '_IUnknown__com_AddRef',\n",
       " '_IUnknown__com_QueryInterface',\n",
       " '_IUnknown__com_Release',\n",
       " '_QueryInterface',\n",
       " '_Release',\n",
       " '__bool__',\n",
       " '__class__',\n",
       " '__cmp__',\n",
       " '__com_interface__',\n",
       " '__ctypes_from_outparam__',\n",
       " '__del__',\n",
       " '__delattr__',\n",
       " '__dict__',\n",
       " '__dir__',\n",
       " '__doc__',\n",
       " '__eq__',\n",
       " '__format__',\n",
       " '__ge__',\n",
       " '__getattr__',\n",
       " '__getattribute__',\n",
       " '__gt__',\n",
       " '__hash__',\n",
       " '__init__',\n",
       " '__init_subclass__',\n",
       " '__le__',\n",
       " '__lt__',\n",
       " '__map_case__',\n",
       " '__module__',\n",
       " '__ne__',\n",
       " '__new__',\n",
       " '__reduce__',\n",
       " '__reduce_ex__',\n",
       " '__repr__',\n",
       " '__setattr__',\n",
       " '__setstate__',\n",
       " '__sizeof__',\n",
       " '__str__',\n",
       " '__subclasshook__',\n",
       " '__weakref__',\n",
       " '_b_base_',\n",
       " '_b_needsfree_',\n",
       " '_case_insensitive_',\n",
       " '_compointer_base__get_value',\n",
       " '_idlflags_',\n",
       " '_iid_',\n",
       " '_methods_',\n",
       " '_needs_com_addref_',\n",
       " '_objects',\n",
       " '_type_',\n",
       " 'from_param',\n",
       " 'value']"
      ]
     },
     "execution_count": 51,
     "metadata": {},
     "output_type": "execute_result"
    }
   ],
   "source": [
    "dir(chain)"
   ]
  },
  {
   "cell_type": "code",
   "execution_count": null,
   "metadata": {},
   "outputs": [],
   "source": []
  },
  {
   "cell_type": "code",
   "execution_count": null,
   "metadata": {},
   "outputs": [],
   "source": []
  },
  {
   "cell_type": "code",
   "execution_count": null,
   "metadata": {},
   "outputs": [],
   "source": []
  },
  {
   "cell_type": "code",
   "execution_count": 17,
   "metadata": {},
   "outputs": [
    {
     "name": "stdout",
     "output_type": "stream",
     "text": [
      "Object: mysat101 fetched.\n"
     ]
    }
   ],
   "source": [
    "sens1 = Stk.getByName('mysat101')"
   ]
  },
  {
   "cell_type": "code",
   "execution_count": 15,
   "metadata": {},
   "outputs": [
    {
     "data": {
      "text/plain": [
       "0"
      ]
     },
     "execution_count": 15,
     "metadata": {},
     "output_type": "execute_result"
    }
   ],
   "source": [
    "constellation2.Objects.AddObject(satellite)"
   ]
  },
  {
   "cell_type": "code",
   "execution_count": 7,
   "metadata": {},
   "outputs": [
    {
     "name": "stdout",
     "output_type": "stream",
     "text": [
      "Object: mysat fetched.\n"
     ]
    }
   ],
   "source": [
    "# constellation.Objects.AddObject(satellite)\n",
    "satellite = Stk.getByName('mysat')"
   ]
  },
  {
   "cell_type": "code",
   "execution_count": 14,
   "metadata": {},
   "outputs": [
    {
     "data": {
      "text/plain": [
       "'mysat'"
      ]
     },
     "execution_count": 14,
     "metadata": {},
     "output_type": "execute_result"
    }
   ],
   "source": [
    "satellite.InstanceName"
   ]
  },
  {
   "cell_type": "code",
   "execution_count": 9,
   "metadata": {},
   "outputs": [
    {
     "data": {
      "text/plain": [
       "['AccessConstraints',\n",
       " 'AddRef',\n",
       " 'CentralBodyName',\n",
       " 'Children',\n",
       " 'ClassName',\n",
       " 'ClassType',\n",
       " 'CopyObject',\n",
       " 'CreateOnePointAccess',\n",
       " 'DataProviders',\n",
       " 'Export',\n",
       " 'GetAccess',\n",
       " 'GetAccessToObject',\n",
       " 'HasChildren',\n",
       " 'InstanceName',\n",
       " 'IsAccessSupported',\n",
       " 'IsObjectCoverageSupported',\n",
       " 'IsVgtSupported',\n",
       " 'LongDescription',\n",
       " 'Metadata',\n",
       " 'ObjectCoverage',\n",
       " 'ObjectFiles',\n",
       " 'Parent',\n",
       " 'Path',\n",
       " 'QueryInterface',\n",
       " 'Release',\n",
       " 'Root',\n",
       " 'ShortDescription',\n",
       " 'Unload',\n",
       " 'Vgt',\n",
       " '_AddRef',\n",
       " '_IAgStkObject__com_CopyObject',\n",
       " '_IAgStkObject__com_CreateOnePointAccess',\n",
       " '_IAgStkObject__com_Export',\n",
       " '_IAgStkObject__com_GetAccess',\n",
       " '_IAgStkObject__com_GetAccessToObject',\n",
       " '_IAgStkObject__com_IsAccessSupported',\n",
       " '_IAgStkObject__com_IsObjectCoverageSupported',\n",
       " '_IAgStkObject__com_IsVgtSupported',\n",
       " '_IAgStkObject__com_Unload',\n",
       " '_IAgStkObject__com__get_AccessConstraints',\n",
       " '_IAgStkObject__com__get_CentralBodyName',\n",
       " '_IAgStkObject__com__get_Children',\n",
       " '_IAgStkObject__com__get_ClassName',\n",
       " '_IAgStkObject__com__get_ClassType',\n",
       " '_IAgStkObject__com__get_DataProviders',\n",
       " '_IAgStkObject__com__get_HasChildren',\n",
       " '_IAgStkObject__com__get_InstanceName',\n",
       " '_IAgStkObject__com__get_LongDescription',\n",
       " '_IAgStkObject__com__get_Metadata',\n",
       " '_IAgStkObject__com__get_ObjectCoverage',\n",
       " '_IAgStkObject__com__get_ObjectFiles',\n",
       " '_IAgStkObject__com__get_Parent',\n",
       " '_IAgStkObject__com__get_Path',\n",
       " '_IAgStkObject__com__get_Root',\n",
       " '_IAgStkObject__com__get_ShortDescription',\n",
       " '_IAgStkObject__com__get_Vgt',\n",
       " '_IAgStkObject__com__set_InstanceName',\n",
       " '_IAgStkObject__com__set_LongDescription',\n",
       " '_IAgStkObject__com__set_ShortDescription',\n",
       " '_IUnknown__com_AddRef',\n",
       " '_IUnknown__com_QueryInterface',\n",
       " '_IUnknown__com_Release',\n",
       " '_QueryInterface',\n",
       " '_Release',\n",
       " '__bool__',\n",
       " '__class__',\n",
       " '__cmp__',\n",
       " '__com_interface__',\n",
       " '__ctypes_from_outparam__',\n",
       " '__del__',\n",
       " '__delattr__',\n",
       " '__dict__',\n",
       " '__dir__',\n",
       " '__doc__',\n",
       " '__eq__',\n",
       " '__format__',\n",
       " '__ge__',\n",
       " '__getattr__',\n",
       " '__getattribute__',\n",
       " '__gt__',\n",
       " '__hash__',\n",
       " '__init__',\n",
       " '__init_subclass__',\n",
       " '__le__',\n",
       " '__lt__',\n",
       " '__map_case__',\n",
       " '__module__',\n",
       " '__ne__',\n",
       " '__new__',\n",
       " '__reduce__',\n",
       " '__reduce_ex__',\n",
       " '__repr__',\n",
       " '__setattr__',\n",
       " '__setstate__',\n",
       " '__sizeof__',\n",
       " '__str__',\n",
       " '__subclasshook__',\n",
       " '__weakref__',\n",
       " '_b_base_',\n",
       " '_b_needsfree_',\n",
       " '_case_insensitive_',\n",
       " '_compointer_base__get_value',\n",
       " '_idlflags_',\n",
       " '_iid_',\n",
       " '_methods_',\n",
       " '_needs_com_addref_',\n",
       " '_objects',\n",
       " '_type_',\n",
       " 'from_param',\n",
       " 'value']"
      ]
     },
     "execution_count": 9,
     "metadata": {},
     "output_type": "execute_result"
    }
   ],
   "source": [
    "dir(constellation)"
   ]
  },
  {
   "cell_type": "code",
   "execution_count": 10,
   "metadata": {},
   "outputs": [
    {
     "data": {
      "text/plain": [
       "0"
      ]
     },
     "execution_count": 10,
     "metadata": {},
     "output_type": "execute_result"
    }
   ],
   "source": [
    "# constellation.Unload()"
   ]
  },
  {
   "cell_type": "code",
   "execution_count": null,
   "metadata": {},
   "outputs": [],
   "source": []
  },
  {
   "cell_type": "code",
   "execution_count": null,
   "metadata": {},
   "outputs": [],
   "source": []
  },
  {
   "cell_type": "code",
   "execution_count": null,
   "metadata": {},
   "outputs": [],
   "source": []
  },
  {
   "cell_type": "code",
   "execution_count": null,
   "metadata": {},
   "outputs": [],
   "source": []
  },
  {
   "cell_type": "markdown",
   "metadata": {},
   "source": [
    "# Add Satellite+Sensor To Sat"
   ]
  },
  {
   "cell_type": "code",
   "execution_count": null,
   "metadata": {},
   "outputs": [],
   "source": [
    "# First satellite object must be created:\n",
    "sat = root.CurrentScenario.Children.New(18, 'MySatellite')  # eSatellite\n",
    "# IAgStkObjectRoot root: STK Object Model Root\n",
    "satellite = sat.QueryInterface(STKObjects.IAgSatellite) # Interface\n",
    "root.ExecuteCommand('SetUnits / km') # Default Connect Units are meters\n",
    "root.ExecuteCommand('SetState */Satellite/MySatellite Cartesian J4Perturbation \"UseAnalysisStartTime\" \"UseAnalysisStopTime\" 60 ICRF \"UseAnalysisStartTime\" 6678.14 0 0 0 6.78953 3.68641')"
   ]
  },
  {
   "cell_type": "code",
   "execution_count": null,
   "metadata": {},
   "outputs": [],
   "source": [
    "# sensor = <satellite_name>.Children.New(STKObjects.eSensor,'MySensor')\n",
    "sensor = Walk.Children.New(20,'MySensor') # eSensor\n",
    "sensor2 = sensor.QueryInterface(STKObjects.IAgSensor)\n",
    "# IAgSensor sensor: Sensor object\n",
    "# Change pattern and set\n",
    "# sensor2.CommonTasks.SetPatternRectangular(20,25)\n",
    "sensor2.CommonTasks.SetPatternSimpleConic(ConeAngle=10, AngularResolution=0.1)\n",
    "# Change pointing and set\n",
    "sensor2.CommonTasks.SetPointingFixedAzEl(90,-90,1) # eAzElAboutBoresightRotate\n",
    "# Change location and set\n",
    "# sensor2.SetLocationType(0) # eSnFixed"
   ]
  },
  {
   "cell_type": "code",
   "execution_count": null,
   "metadata": {},
   "outputs": [],
   "source": [
    "# Generate Walker-Delta:\n",
    "cmd = 'Walker */Satellite/MySatellite Type Custom NumPlanes 2 NumSatsPerPlane 2 InterPlaneTrueAnomalyIncrement 30.0 RAANIncrement 180.0 ColorByPlane No ConstellationName MyConst'\n",
    "root.ExecuteCommand(cmd)"
   ]
  },
  {
   "cell_type": "code",
   "execution_count": null,
   "metadata": {},
   "outputs": [],
   "source": []
  },
  {
   "cell_type": "code",
   "execution_count": null,
   "metadata": {},
   "outputs": [],
   "source": []
  },
  {
   "cell_type": "code",
   "execution_count": null,
   "metadata": {},
   "outputs": [],
   "source": []
  }
 ],
 "metadata": {
  "interpreter": {
   "hash": "202e2045b49958a074948b2e0c285a85bcb40cad1161c0d9c8c38fa298e2ad79"
  },
  "kernelspec": {
   "display_name": "Python 3.9.7 64-bit ('SatWiz': conda)",
   "language": "python",
   "name": "python3"
  },
  "language_info": {
   "codemirror_mode": {
    "name": "ipython",
    "version": 3
   },
   "file_extension": ".py",
   "mimetype": "text/x-python",
   "name": "python",
   "nbconvert_exporter": "python",
   "pygments_lexer": "ipython3",
   "version": "3.9.7"
  },
  "orig_nbformat": 4
 },
 "nbformat": 4,
 "nbformat_minor": 2
}
