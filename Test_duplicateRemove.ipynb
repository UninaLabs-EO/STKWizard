{
 "cells": [
  {
   "cell_type": "code",
   "execution_count": 1,
   "metadata": {},
   "outputs": [],
   "source": [
    "from Core.EvAlgo import GA"
   ]
  },
  {
   "cell_type": "code",
   "execution_count": 2,
   "metadata": {},
   "outputs": [],
   "source": [
    "A = GA(popSize=50, nGenerations = 20, nVar=6, nObj=1, toKeep=5)"
   ]
  },
  {
   "cell_type": "code",
   "execution_count": 3,
   "metadata": {},
   "outputs": [],
   "source": [
    "A_df = A.popolate()"
   ]
  },
  {
   "cell_type": "code",
   "execution_count": 4,
   "metadata": {},
   "outputs": [],
   "source": [
    "A.duplicateRemover()"
   ]
  },
  {
   "cell_type": "code",
   "execution_count": 5,
   "metadata": {},
   "outputs": [
    {
     "data": {
      "text/plain": [
       "True"
      ]
     },
     "execution_count": 5,
     "metadata": {},
     "output_type": "execute_result"
    }
   ],
   "source": [
    "A.evaluate(function=lambda x: sum(x))"
   ]
  },
  {
   "cell_type": "code",
   "execution_count": 6,
   "metadata": {},
   "outputs": [],
   "source": [
    "A.survival(nParents=5, sortBy='Eval')"
   ]
  },
  {
   "cell_type": "code",
   "execution_count": 7,
   "metadata": {},
   "outputs": [
    {
     "data": {
      "text/html": [
       "<div>\n",
       "<style scoped>\n",
       "    .dataframe tbody tr th:only-of-type {\n",
       "        vertical-align: middle;\n",
       "    }\n",
       "\n",
       "    .dataframe tbody tr th {\n",
       "        vertical-align: top;\n",
       "    }\n",
       "\n",
       "    .dataframe thead th {\n",
       "        text-align: right;\n",
       "    }\n",
       "</style>\n",
       "<table border=\"1\" class=\"dataframe\">\n",
       "  <thead>\n",
       "    <tr style=\"text-align: right;\">\n",
       "      <th></th>\n",
       "      <th>a</th>\n",
       "      <th>i</th>\n",
       "      <th>RAAN</th>\n",
       "      <th>NumPlanes</th>\n",
       "      <th>NumSatxPlane</th>\n",
       "      <th>InterRAAN</th>\n",
       "      <th>Eval</th>\n",
       "    </tr>\n",
       "  </thead>\n",
       "  <tbody>\n",
       "    <tr>\n",
       "      <th>0</th>\n",
       "      <td>6905</td>\n",
       "      <td>94</td>\n",
       "      <td>88</td>\n",
       "      <td>11</td>\n",
       "      <td>22</td>\n",
       "      <td>8.564641</td>\n",
       "      <td>7128.564641</td>\n",
       "    </tr>\n",
       "    <tr>\n",
       "      <th>1</th>\n",
       "      <td>6875</td>\n",
       "      <td>102</td>\n",
       "      <td>96</td>\n",
       "      <td>44</td>\n",
       "      <td>3</td>\n",
       "      <td>2.190861</td>\n",
       "      <td>7122.190861</td>\n",
       "    </tr>\n",
       "    <tr>\n",
       "      <th>2</th>\n",
       "      <td>6855</td>\n",
       "      <td>118</td>\n",
       "      <td>83</td>\n",
       "      <td>4</td>\n",
       "      <td>37</td>\n",
       "      <td>9.812084</td>\n",
       "      <td>7106.812084</td>\n",
       "    </tr>\n",
       "    <tr>\n",
       "      <th>3</th>\n",
       "      <td>6886</td>\n",
       "      <td>88</td>\n",
       "      <td>95</td>\n",
       "      <td>7</td>\n",
       "      <td>18</td>\n",
       "      <td>2.380757</td>\n",
       "      <td>7096.380757</td>\n",
       "    </tr>\n",
       "    <tr>\n",
       "      <th>4</th>\n",
       "      <td>6877</td>\n",
       "      <td>101</td>\n",
       "      <td>95</td>\n",
       "      <td>5</td>\n",
       "      <td>4</td>\n",
       "      <td>6.125346</td>\n",
       "      <td>7088.125346</td>\n",
       "    </tr>\n",
       "  </tbody>\n",
       "</table>\n",
       "</div>"
      ],
      "text/plain": [
       "      a    i  RAAN  NumPlanes  NumSatxPlane  InterRAAN         Eval\n",
       "0  6905   94    88         11            22   8.564641  7128.564641\n",
       "1  6875  102    96         44             3   2.190861  7122.190861\n",
       "2  6855  118    83          4            37   9.812084  7106.812084\n",
       "3  6886   88    95          7            18   2.380757  7096.380757\n",
       "4  6877  101    95          5             4   6.125346  7088.125346"
      ]
     },
     "execution_count": 7,
     "metadata": {},
     "output_type": "execute_result"
    }
   ],
   "source": [
    "A.dfParents"
   ]
  }
 ],
 "metadata": {
  "interpreter": {
   "hash": "dfc7fd45ce818149375a5b4780a20ea6d062dee8435198f997ef5b7915835c63"
  },
  "kernelspec": {
   "display_name": "Python 3.9.7 64-bit ('SatWiz': conda)",
   "language": "python",
   "name": "python3"
  },
  "language_info": {
   "codemirror_mode": {
    "name": "ipython",
    "version": 3
   },
   "file_extension": ".py",
   "mimetype": "text/x-python",
   "name": "python",
   "nbconvert_exporter": "python",
   "pygments_lexer": "ipython3",
   "version": "3.9.7"
  },
  "orig_nbformat": 4
 },
 "nbformat": 4,
 "nbformat_minor": 2
}
