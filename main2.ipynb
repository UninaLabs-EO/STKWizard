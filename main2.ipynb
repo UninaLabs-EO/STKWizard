{
 "cells": [
  {
   "cell_type": "code",
   "execution_count": 1,
   "metadata": {},
   "outputs": [],
   "source": [
    "from STKBridge.Pipe import Pipeline"
   ]
  },
  {
   "cell_type": "code",
   "execution_count": 2,
   "metadata": {},
   "outputs": [
    {
     "name": "stdout",
     "output_type": "stream",
     "text": [
      "Connection execution successfully\n",
      "STK initialized.\n"
     ]
    }
   ],
   "source": [
    "f = Pipeline()\n",
    "# X = [6828.14, 96, 80, 9, 9, 0.5]\n",
    "# sol = f.genSol(X)\n",
    "# print(\"\\r\")\n",
    "# print(sol)"
   ]
  },
  {
   "cell_type": "code",
   "execution_count": 3,
   "metadata": {},
   "outputs": [],
   "source": [
    "# a,b,c =0.62, 0.25, 0.13\n",
    "# val = a*(sol[0]/60) + b*(1-sol[1]/86400) + c*(1-sol[2]/150)\n",
    "# print(val)"
   ]
  },
  {
   "cell_type": "markdown",
   "metadata": {},
   "source": [
    "# Problem Data Relais"
   ]
  },
  {
   "cell_type": "code",
   "execution_count": 4,
   "metadata": {},
   "outputs": [],
   "source": [
    "import numpy as np\n",
    "from pymoo.core.problem import ElementwiseProblem\n",
    "\n",
    "class RelaisProblem(ElementwiseProblem):\n",
    "\n",
    "    def __init__(self):\n",
    "        super().__init__(n_var=6, n_obj=1, n_constr=0)\n",
    "\n",
    "    def _evaluate(self, x, out, *args, **kwargs):\n",
    "\n",
    "        sol = f.genSol(x)\n",
    "\n",
    "        out[\"F\"] = np.array([-sol[0]], dtype=float)"
   ]
  },
  {
   "cell_type": "markdown",
   "metadata": {},
   "source": [
    "# Sampling"
   ]
  },
  {
   "cell_type": "code",
   "execution_count": 5,
   "metadata": {},
   "outputs": [],
   "source": [
    "from pymoo.core.sampling import Sampling\n",
    "\n",
    "class MySampling(Sampling):\n",
    "\n",
    "    def _do(self, problem, n_samples, **kwargs):\n",
    "         X = np.full((1, 6), None, dtype=object)\n",
    "         \n",
    "         X[0, 0] = np.random.randint(6428,6928) # a\n",
    "         X[0, 1] = np.random.randint(80,120)    # i\n",
    "         X[0, 2] = np.random.randint(60,100)    # RAAN\n",
    "         X[0, 3] = np.random.randint(1,3)      # NumPlanes\n",
    "         X[0, 4] = np.random.randint(1,4)      # NumSatxPlane\n",
    "         # MAX 150 SATELLITES CONDITION:\n",
    "         while(X[0, 3]*X[0, 4])>150:\n",
    "              X[0, 3] = np.random.randint(1,30)      # NumPlanes\n",
    "              X[0, 4] = np.random.randint(1,50)      # NumSatxPlane\n",
    "\n",
    "         X[0, 5] = np.random.random(1)[0]*10\n",
    "         \n",
    "         return X"
   ]
  },
  {
   "cell_type": "markdown",
   "metadata": {},
   "source": [
    "# Crossover"
   ]
  },
  {
   "cell_type": "code",
   "execution_count": 11,
   "metadata": {},
   "outputs": [],
   "source": [
    "from pymoo.core.crossover import Crossover\n",
    "\n",
    "class MyCrossover(Crossover):\n",
    "    def __init__(self):\n",
    "\n",
    "        # define the crossover: number of parents and number of offsprings\n",
    "        super().__init__(2, 2)\n",
    "\n",
    "    def _do(self, problem, X, **kwargs):\n",
    "\n",
    "        # The input of has the following shape (n_parents, n_matings, n_var)\n",
    "        _, n_matings, n_var = X.shape\n",
    "\n",
    "        # The output owith the shape (n_offsprings, n_matings, n_var)\n",
    "        # Because there the number of parents and offsprings are equal it keeps the shape of X\n",
    "        Y = np.full_like(X, None, dtype=object)\n",
    "\n",
    "        # for each mating provided\n",
    "        for k in range(n_matings):\n",
    "\n",
    "            # get the first and the second parent\n",
    "            a, b = X[0, k, 0], X[1, k, 0]\n",
    "\n",
    "            print(a, b)\n",
    "            print(X)\n",
    "\n",
    "            # prepare the offsprings\n",
    "            off_a = np.zeros(6)\n",
    "            off_b = np.zeros(6)\n",
    "\n",
    "            for i in range(6):\n",
    "                if np.random.random() < 0.5:\n",
    "                    off_a[i] = a[i]\n",
    "                    off_b[i] = b[i]\n",
    "                else:\n",
    "                    off_a[i] = b[i]\n",
    "                    off_b[i] = a[i]\n",
    "\n",
    "            # join the character list and set the output\n",
    "            Y[0, k, 0], Y[1, k, 0] =list(off_a), list(off_b)\n",
    "\n",
    "        return Y"
   ]
  },
  {
   "cell_type": "markdown",
   "metadata": {},
   "source": [
    "# Mutation"
   ]
  },
  {
   "cell_type": "code",
   "execution_count": 8,
   "metadata": {},
   "outputs": [],
   "source": [
    "from pymoo.core.mutation import Mutation\n",
    "\n",
    "class MyMutation(Mutation):\n",
    "    def __init__(self):\n",
    "        super().__init__()\n",
    "\n",
    "    def _do(self, problem, X, **kwargs):\n",
    "\n",
    "        # for each individual\n",
    "\n",
    "        # with a probabilty of 40% change semimajor axis\n",
    "        r = np.random.random()\n",
    "        if r < 0.4:\n",
    "            rand = np.random.randint(-50,50)\n",
    "            X[0, 0] += rand\n",
    "\n",
    "        # with a probabilty of 40% change inclination\n",
    "        r = np.random.random()\n",
    "        if r < 0.4:\n",
    "            rand = np.random.randint(-20,20)\n",
    "            X[0, 1] += rand\n",
    "\n",
    "        # with a probabilty of 40% change RAAN\n",
    "        r = np.random.random()\n",
    "        if r < 0.4:\n",
    "            rand = np.random.randint(-20,20)\n",
    "            X[0, 2] += rand\n",
    "\n",
    "\n",
    "        # with a probabilty of 40% change NumPlanes\n",
    "        r = np.random.random()\n",
    "        if r < 0.4:\n",
    "            rand = np.random.randint(1,5)\n",
    "            X[0, 3] += rand\n",
    "\n",
    "        # with a probabilty of 40% change NumSatsxPlane\n",
    "        r = np.random.random()\n",
    "        if r < 0.4:\n",
    "            rand = np.random.randint(1,5)\n",
    "            X[0, 4] += rand\n",
    "\n",
    "        # with a probabilty of 40% change RAANincrement\n",
    "        r = np.random.random()\n",
    "        if r < 0.4:\n",
    "            rand = np.random.random(1)[0]*5\n",
    "            X[0, 5] += rand\n",
    "\n",
    "       \n",
    "        return X"
   ]
  },
  {
   "cell_type": "code",
   "execution_count": 9,
   "metadata": {},
   "outputs": [],
   "source": [
    "from pymoo.core.duplicate import ElementwiseDuplicateElimination\n",
    "\n",
    "class MyDuplicateElimination(ElementwiseDuplicateElimination):\n",
    "\n",
    "    def is_equal(self, a, b):\n",
    "        return a.X[0] == b.X[0]"
   ]
  },
  {
   "cell_type": "code",
   "execution_count": 12,
   "metadata": {},
   "outputs": [
    {
     "name": "stdout",
     "output_type": "stream",
     "text": [
      "Satellite Added!\n",
      "Object: mysat fetched.\n",
      "Walker Delta constellation generated.\n",
      "Chain (Chain) object with sensors generated.\n",
      "Object: Chain fetched.\n",
      "Chain access computation for chain (Chain) executed.\n",
      "Object: Sensors fetched.\n",
      "Object: mysat fetched.\n",
      "Object: mysat11 fetched.\n",
      "Object: mysat12 fetched.\n",
      "Object: mysat21 fetched.\n",
      "Object: mysat22 fetched.\n",
      "Object: Chain fetched.\n",
      "Reset completed successfully.\n",
      "6465 6465\n",
      "[[[6465 92 68 2 2 3.0233257263183977]\n",
      "  [6465 92 68 2 2 3.0233257263183977]\n",
      "  [6465 92 68 2 2 3.0233257263183977]\n",
      "  [6465 92 68 2 2 3.0233257263183977]\n",
      "  [6465 92 68 2 2 3.0233257263183977]\n",
      "  [6465 92 68 2 2 3.0233257263183977]\n",
      "  [6465 92 68 2 2 3.0233257263183977]\n",
      "  [6465 92 68 2 2 3.0233257263183977]\n",
      "  [6465 92 68 2 2 3.0233257263183977]\n",
      "  [6465 92 68 2 2 3.0233257263183977]\n",
      "  [6465 92 68 2 2 3.0233257263183977]\n",
      "  [6465 92 68 2 2 3.0233257263183977]\n",
      "  [6465 92 68 2 2 3.0233257263183977]\n",
      "  [6465 92 68 2 2 3.0233257263183977]\n",
      "  [6465 92 68 2 2 3.0233257263183977]\n",
      "  [6465 92 68 2 2 3.0233257263183977]\n",
      "  [6465 92 68 2 2 3.0233257263183977]\n",
      "  [6465 92 68 2 2 3.0233257263183977]\n",
      "  [6465 92 68 2 2 3.0233257263183977]\n",
      "  [6465 92 68 2 2 3.0233257263183977]\n",
      "  [6465 92 68 2 2 3.0233257263183977]\n",
      "  [6465 92 68 2 2 3.0233257263183977]\n",
      "  [6465 92 68 2 2 3.0233257263183977]\n",
      "  [6465 92 68 2 2 3.0233257263183977]\n",
      "  [6465 92 68 2 2 3.0233257263183977]]\n",
      "\n",
      " [[6465 92 68 2 2 3.0233257263183977]\n",
      "  [6465 92 68 2 2 3.0233257263183977]\n",
      "  [6465 92 68 2 2 3.0233257263183977]\n",
      "  [6465 92 68 2 2 3.0233257263183977]\n",
      "  [6465 92 68 2 2 3.0233257263183977]\n",
      "  [6465 92 68 2 2 3.0233257263183977]\n",
      "  [6465 92 68 2 2 3.0233257263183977]\n",
      "  [6465 92 68 2 2 3.0233257263183977]\n",
      "  [6465 92 68 2 2 3.0233257263183977]\n",
      "  [6465 92 68 2 2 3.0233257263183977]\n",
      "  [6465 92 68 2 2 3.0233257263183977]\n",
      "  [6465 92 68 2 2 3.0233257263183977]\n",
      "  [6465 92 68 2 2 3.0233257263183977]\n",
      "  [6465 92 68 2 2 3.0233257263183977]\n",
      "  [6465 92 68 2 2 3.0233257263183977]\n",
      "  [6465 92 68 2 2 3.0233257263183977]\n",
      "  [6465 92 68 2 2 3.0233257263183977]\n",
      "  [6465 92 68 2 2 3.0233257263183977]\n",
      "  [6465 92 68 2 2 3.0233257263183977]\n",
      "  [6465 92 68 2 2 3.0233257263183977]\n",
      "  [6465 92 68 2 2 3.0233257263183977]\n",
      "  [6465 92 68 2 2 3.0233257263183977]\n",
      "  [6465 92 68 2 2 3.0233257263183977]\n",
      "  [6465 92 68 2 2 3.0233257263183977]\n",
      "  [6465 92 68 2 2 3.0233257263183977]]]\n"
     ]
    },
    {
     "ename": "TypeError",
     "evalue": "'int' object is not subscriptable",
     "output_type": "error",
     "traceback": [
      "\u001b[1;31m---------------------------------------------------------------------------\u001b[0m",
      "\u001b[1;31mTypeError\u001b[0m                                 Traceback (most recent call last)",
      "\u001b[1;32m~\\AppData\\Local\\Temp/ipykernel_3480/713993576.py\u001b[0m in \u001b[0;36m<module>\u001b[1;34m\u001b[0m\n\u001b[0;32m      9\u001b[0m                   eliminate_duplicates=MyDuplicateElimination())\n\u001b[0;32m     10\u001b[0m \u001b[1;33m\u001b[0m\u001b[0m\n\u001b[1;32m---> 11\u001b[1;33m res = minimize(RelaisProblem(),\n\u001b[0m\u001b[0;32m     12\u001b[0m                \u001b[0malgorithm\u001b[0m\u001b[1;33m,\u001b[0m\u001b[1;33m\u001b[0m\u001b[1;33m\u001b[0m\u001b[0m\n\u001b[0;32m     13\u001b[0m                \u001b[1;33m(\u001b[0m\u001b[1;34m'n_gen'\u001b[0m\u001b[1;33m,\u001b[0m \u001b[1;36m100\u001b[0m\u001b[1;33m)\u001b[0m\u001b[1;33m,\u001b[0m\u001b[1;33m\u001b[0m\u001b[1;33m\u001b[0m\u001b[0m\n",
      "\u001b[1;32m~\\.conda\\envs\\SatWiz\\lib\\site-packages\\pymoo\\optimize.py\u001b[0m in \u001b[0;36mminimize\u001b[1;34m(problem, algorithm, termination, copy_algorithm, copy_termination, **kwargs)\u001b[0m\n\u001b[0;32m     81\u001b[0m \u001b[1;33m\u001b[0m\u001b[0m\n\u001b[0;32m     82\u001b[0m     \u001b[1;31m# actually execute the algorithm\u001b[0m\u001b[1;33m\u001b[0m\u001b[1;33m\u001b[0m\u001b[0m\n\u001b[1;32m---> 83\u001b[1;33m     \u001b[0mres\u001b[0m \u001b[1;33m=\u001b[0m \u001b[0malgorithm\u001b[0m\u001b[1;33m.\u001b[0m\u001b[0mrun\u001b[0m\u001b[1;33m(\u001b[0m\u001b[1;33m)\u001b[0m\u001b[1;33m\u001b[0m\u001b[1;33m\u001b[0m\u001b[0m\n\u001b[0m\u001b[0;32m     84\u001b[0m \u001b[1;33m\u001b[0m\u001b[0m\n\u001b[0;32m     85\u001b[0m     \u001b[1;31m# store the deep copied algorithm in the result object\u001b[0m\u001b[1;33m\u001b[0m\u001b[1;33m\u001b[0m\u001b[0m\n",
      "\u001b[1;32m~\\.conda\\envs\\SatWiz\\lib\\site-packages\\pymoo\\core\\algorithm.py\u001b[0m in \u001b[0;36mrun\u001b[1;34m(self)\u001b[0m\n\u001b[0;32m    211\u001b[0m         \u001b[1;31m# while termination criterion not fulfilled\u001b[0m\u001b[1;33m\u001b[0m\u001b[1;33m\u001b[0m\u001b[0m\n\u001b[0;32m    212\u001b[0m         \u001b[1;32mwhile\u001b[0m \u001b[0mself\u001b[0m\u001b[1;33m.\u001b[0m\u001b[0mhas_next\u001b[0m\u001b[1;33m(\u001b[0m\u001b[1;33m)\u001b[0m\u001b[1;33m:\u001b[0m\u001b[1;33m\u001b[0m\u001b[1;33m\u001b[0m\u001b[0m\n\u001b[1;32m--> 213\u001b[1;33m             \u001b[0mself\u001b[0m\u001b[1;33m.\u001b[0m\u001b[0mnext\u001b[0m\u001b[1;33m(\u001b[0m\u001b[1;33m)\u001b[0m\u001b[1;33m\u001b[0m\u001b[1;33m\u001b[0m\u001b[0m\n\u001b[0m\u001b[0;32m    214\u001b[0m \u001b[1;33m\u001b[0m\u001b[0m\n\u001b[0;32m    215\u001b[0m         \u001b[1;31m# create the result object to be returned\u001b[0m\u001b[1;33m\u001b[0m\u001b[1;33m\u001b[0m\u001b[0m\n",
      "\u001b[1;32m~\\.conda\\envs\\SatWiz\\lib\\site-packages\\pymoo\\core\\algorithm.py\u001b[0m in \u001b[0;36mnext\u001b[1;34m(self)\u001b[0m\n\u001b[0;32m    227\u001b[0m \u001b[1;33m\u001b[0m\u001b[0m\n\u001b[0;32m    228\u001b[0m         \u001b[1;31m# get the infill solutions\u001b[0m\u001b[1;33m\u001b[0m\u001b[1;33m\u001b[0m\u001b[0m\n\u001b[1;32m--> 229\u001b[1;33m         \u001b[0minfills\u001b[0m \u001b[1;33m=\u001b[0m \u001b[0mself\u001b[0m\u001b[1;33m.\u001b[0m\u001b[0minfill\u001b[0m\u001b[1;33m(\u001b[0m\u001b[1;33m)\u001b[0m\u001b[1;33m\u001b[0m\u001b[1;33m\u001b[0m\u001b[0m\n\u001b[0m\u001b[0;32m    230\u001b[0m \u001b[1;33m\u001b[0m\u001b[0m\n\u001b[0;32m    231\u001b[0m         \u001b[1;31m# call the advance with them after evaluation\u001b[0m\u001b[1;33m\u001b[0m\u001b[1;33m\u001b[0m\u001b[0m\n",
      "\u001b[1;32m~\\.conda\\envs\\SatWiz\\lib\\site-packages\\pymoo\\core\\algorithm.py\u001b[0m in \u001b[0;36minfill\u001b[1;34m(self)\u001b[0m\n\u001b[0;32m    267\u001b[0m         \u001b[1;32melse\u001b[0m\u001b[1;33m:\u001b[0m\u001b[1;33m\u001b[0m\u001b[1;33m\u001b[0m\u001b[0m\n\u001b[0;32m    268\u001b[0m             \u001b[1;31m# request the infill solutions if the algorithm has implemented it\u001b[0m\u001b[1;33m\u001b[0m\u001b[1;33m\u001b[0m\u001b[0m\n\u001b[1;32m--> 269\u001b[1;33m             \u001b[0minfills\u001b[0m \u001b[1;33m=\u001b[0m \u001b[0mself\u001b[0m\u001b[1;33m.\u001b[0m\u001b[0m_infill\u001b[0m\u001b[1;33m(\u001b[0m\u001b[1;33m)\u001b[0m\u001b[1;33m\u001b[0m\u001b[1;33m\u001b[0m\u001b[0m\n\u001b[0m\u001b[0;32m    270\u001b[0m \u001b[1;33m\u001b[0m\u001b[0m\n\u001b[0;32m    271\u001b[0m         \u001b[1;31m# set the current generation to the offsprings\u001b[0m\u001b[1;33m\u001b[0m\u001b[1;33m\u001b[0m\u001b[0m\n",
      "\u001b[1;32m~\\.conda\\envs\\SatWiz\\lib\\site-packages\\pymoo\\algorithms\\base\\genetic.py\u001b[0m in \u001b[0;36m_infill\u001b[1;34m(self)\u001b[0m\n\u001b[0;32m     84\u001b[0m \u001b[1;33m\u001b[0m\u001b[0m\n\u001b[0;32m     85\u001b[0m         \u001b[1;31m# do the mating using the current population\u001b[0m\u001b[1;33m\u001b[0m\u001b[1;33m\u001b[0m\u001b[0m\n\u001b[1;32m---> 86\u001b[1;33m         \u001b[0moff\u001b[0m \u001b[1;33m=\u001b[0m \u001b[0mself\u001b[0m\u001b[1;33m.\u001b[0m\u001b[0mmating\u001b[0m\u001b[1;33m.\u001b[0m\u001b[0mdo\u001b[0m\u001b[1;33m(\u001b[0m\u001b[0mself\u001b[0m\u001b[1;33m.\u001b[0m\u001b[0mproblem\u001b[0m\u001b[1;33m,\u001b[0m \u001b[0mself\u001b[0m\u001b[1;33m.\u001b[0m\u001b[0mpop\u001b[0m\u001b[1;33m,\u001b[0m \u001b[0mself\u001b[0m\u001b[1;33m.\u001b[0m\u001b[0mn_offsprings\u001b[0m\u001b[1;33m,\u001b[0m \u001b[0malgorithm\u001b[0m\u001b[1;33m=\u001b[0m\u001b[0mself\u001b[0m\u001b[1;33m)\u001b[0m\u001b[1;33m\u001b[0m\u001b[1;33m\u001b[0m\u001b[0m\n\u001b[0m\u001b[0;32m     87\u001b[0m \u001b[1;33m\u001b[0m\u001b[0m\n\u001b[0;32m     88\u001b[0m         \u001b[1;31m# if the mating could not generate any new offspring (duplicate elimination might make that happen)\u001b[0m\u001b[1;33m\u001b[0m\u001b[1;33m\u001b[0m\u001b[0m\n",
      "\u001b[1;32m~\\.conda\\envs\\SatWiz\\lib\\site-packages\\pymoo\\core\\infill.py\u001b[0m in \u001b[0;36mdo\u001b[1;34m(self, problem, pop, n_offsprings, **kwargs)\u001b[0m\n\u001b[0;32m     32\u001b[0m \u001b[1;33m\u001b[0m\u001b[0m\n\u001b[0;32m     33\u001b[0m             \u001b[1;31m# do the mating\u001b[0m\u001b[1;33m\u001b[0m\u001b[1;33m\u001b[0m\u001b[0m\n\u001b[1;32m---> 34\u001b[1;33m             \u001b[0m_off\u001b[0m \u001b[1;33m=\u001b[0m \u001b[0mself\u001b[0m\u001b[1;33m.\u001b[0m\u001b[0m_do\u001b[0m\u001b[1;33m(\u001b[0m\u001b[0mproblem\u001b[0m\u001b[1;33m,\u001b[0m \u001b[0mpop\u001b[0m\u001b[1;33m,\u001b[0m \u001b[0mn_remaining\u001b[0m\u001b[1;33m,\u001b[0m \u001b[1;33m**\u001b[0m\u001b[0mkwargs\u001b[0m\u001b[1;33m)\u001b[0m\u001b[1;33m\u001b[0m\u001b[1;33m\u001b[0m\u001b[0m\n\u001b[0m\u001b[0;32m     35\u001b[0m \u001b[1;33m\u001b[0m\u001b[0m\n\u001b[0;32m     36\u001b[0m             \u001b[1;31m# repair the individuals if necessary - disabled if repair is NoRepair\u001b[0m\u001b[1;33m\u001b[0m\u001b[1;33m\u001b[0m\u001b[0m\n",
      "\u001b[1;32m~\\.conda\\envs\\SatWiz\\lib\\site-packages\\pymoo\\core\\mating.py\u001b[0m in \u001b[0;36m_do\u001b[1;34m(self, problem, pop, n_offsprings, parents, **kwargs)\u001b[0m\n\u001b[0;32m     29\u001b[0m \u001b[1;33m\u001b[0m\u001b[0m\n\u001b[0;32m     30\u001b[0m         \u001b[1;31m# do the crossover using the parents index and the population - additional data provided if necessary\u001b[0m\u001b[1;33m\u001b[0m\u001b[1;33m\u001b[0m\u001b[0m\n\u001b[1;32m---> 31\u001b[1;33m         \u001b[0m_off\u001b[0m \u001b[1;33m=\u001b[0m \u001b[0mself\u001b[0m\u001b[1;33m.\u001b[0m\u001b[0mcrossover\u001b[0m\u001b[1;33m.\u001b[0m\u001b[0mdo\u001b[0m\u001b[1;33m(\u001b[0m\u001b[0mproblem\u001b[0m\u001b[1;33m,\u001b[0m \u001b[0mpop\u001b[0m\u001b[1;33m,\u001b[0m \u001b[0mparents\u001b[0m\u001b[1;33m,\u001b[0m \u001b[1;33m**\u001b[0m\u001b[0mkwargs\u001b[0m\u001b[1;33m)\u001b[0m\u001b[1;33m\u001b[0m\u001b[1;33m\u001b[0m\u001b[0m\n\u001b[0m\u001b[0;32m     32\u001b[0m \u001b[1;33m\u001b[0m\u001b[0m\n\u001b[0;32m     33\u001b[0m         \u001b[1;31m# do the mutation on the offsprings created through crossover\u001b[0m\u001b[1;33m\u001b[0m\u001b[1;33m\u001b[0m\u001b[0m\n",
      "\u001b[1;32m~\\.conda\\envs\\SatWiz\\lib\\site-packages\\pymoo\\core\\crossover.py\u001b[0m in \u001b[0;36mdo\u001b[1;34m(self, problem, pop, parents, **kwargs)\u001b[0m\n\u001b[0;32m     54\u001b[0m \u001b[1;33m\u001b[0m\u001b[0m\n\u001b[0;32m     55\u001b[0m         \u001b[1;31m# execute the crossover\u001b[0m\u001b[1;33m\u001b[0m\u001b[1;33m\u001b[0m\u001b[0m\n\u001b[1;32m---> 56\u001b[1;33m         \u001b[0m_X\u001b[0m \u001b[1;33m=\u001b[0m \u001b[0mself\u001b[0m\u001b[1;33m.\u001b[0m\u001b[0m_do\u001b[0m\u001b[1;33m(\u001b[0m\u001b[0mproblem\u001b[0m\u001b[1;33m,\u001b[0m \u001b[0mX\u001b[0m\u001b[1;33m,\u001b[0m \u001b[1;33m**\u001b[0m\u001b[0mkwargs\u001b[0m\u001b[1;33m)\u001b[0m\u001b[1;33m\u001b[0m\u001b[1;33m\u001b[0m\u001b[0m\n\u001b[0m\u001b[0;32m     57\u001b[0m \u001b[1;33m\u001b[0m\u001b[0m\n\u001b[0;32m     58\u001b[0m         \u001b[0mX\u001b[0m\u001b[1;33m[\u001b[0m\u001b[1;33m:\u001b[0m\u001b[1;33m,\u001b[0m \u001b[0mdo_crossover\u001b[0m\u001b[1;33m,\u001b[0m \u001b[1;33m:\u001b[0m\u001b[1;33m]\u001b[0m \u001b[1;33m=\u001b[0m \u001b[0m_X\u001b[0m\u001b[1;33m[\u001b[0m\u001b[1;33m:\u001b[0m\u001b[1;33m,\u001b[0m \u001b[0mdo_crossover\u001b[0m\u001b[1;33m,\u001b[0m \u001b[1;33m:\u001b[0m\u001b[1;33m]\u001b[0m\u001b[1;33m\u001b[0m\u001b[1;33m\u001b[0m\u001b[0m\n",
      "\u001b[1;32m~\\AppData\\Local\\Temp/ipykernel_3480/1773213110.py\u001b[0m in \u001b[0;36m_do\u001b[1;34m(self, problem, X, **kwargs)\u001b[0m\n\u001b[0;32m     31\u001b[0m             \u001b[1;32mfor\u001b[0m \u001b[0mi\u001b[0m \u001b[1;32min\u001b[0m \u001b[0mrange\u001b[0m\u001b[1;33m(\u001b[0m\u001b[1;36m6\u001b[0m\u001b[1;33m)\u001b[0m\u001b[1;33m:\u001b[0m\u001b[1;33m\u001b[0m\u001b[1;33m\u001b[0m\u001b[0m\n\u001b[0;32m     32\u001b[0m                 \u001b[1;32mif\u001b[0m \u001b[0mnp\u001b[0m\u001b[1;33m.\u001b[0m\u001b[0mrandom\u001b[0m\u001b[1;33m.\u001b[0m\u001b[0mrandom\u001b[0m\u001b[1;33m(\u001b[0m\u001b[1;33m)\u001b[0m \u001b[1;33m<\u001b[0m \u001b[1;36m0.5\u001b[0m\u001b[1;33m:\u001b[0m\u001b[1;33m\u001b[0m\u001b[1;33m\u001b[0m\u001b[0m\n\u001b[1;32m---> 33\u001b[1;33m                     \u001b[0moff_a\u001b[0m\u001b[1;33m[\u001b[0m\u001b[0mi\u001b[0m\u001b[1;33m]\u001b[0m \u001b[1;33m=\u001b[0m \u001b[0ma\u001b[0m\u001b[1;33m[\u001b[0m\u001b[0mi\u001b[0m\u001b[1;33m]\u001b[0m\u001b[1;33m\u001b[0m\u001b[1;33m\u001b[0m\u001b[0m\n\u001b[0m\u001b[0;32m     34\u001b[0m                     \u001b[0moff_b\u001b[0m\u001b[1;33m[\u001b[0m\u001b[0mi\u001b[0m\u001b[1;33m]\u001b[0m \u001b[1;33m=\u001b[0m \u001b[0mb\u001b[0m\u001b[1;33m[\u001b[0m\u001b[0mi\u001b[0m\u001b[1;33m]\u001b[0m\u001b[1;33m\u001b[0m\u001b[1;33m\u001b[0m\u001b[0m\n\u001b[0;32m     35\u001b[0m                 \u001b[1;32melse\u001b[0m\u001b[1;33m:\u001b[0m\u001b[1;33m\u001b[0m\u001b[1;33m\u001b[0m\u001b[0m\n",
      "\u001b[1;31mTypeError\u001b[0m: 'int' object is not subscriptable"
     ]
    }
   ],
   "source": [
    "from pymoo.algorithms.moo.nsga2 import NSGA2\n",
    "from pymoo.optimize import minimize\n",
    "\n",
    "\n",
    "algorithm = NSGA2(pop_size=50,\n",
    "                  sampling=MySampling(),\n",
    "                  crossover=MyCrossover(),\n",
    "                  mutation=MyMutation(),\n",
    "                  eliminate_duplicates=MyDuplicateElimination())\n",
    "\n",
    "res = minimize(RelaisProblem(),\n",
    "               algorithm,\n",
    "               ('n_gen', 100),\n",
    "               seed=1,\n",
    "               verbose=False)"
   ]
  }
 ],
 "metadata": {
  "interpreter": {
   "hash": "dfc7fd45ce818149375a5b4780a20ea6d062dee8435198f997ef5b7915835c63"
  },
  "kernelspec": {
   "display_name": "Python 3.9.7 64-bit ('SatWiz': conda)",
   "language": "python",
   "name": "python3"
  },
  "language_info": {
   "codemirror_mode": {
    "name": "ipython",
    "version": 3
   },
   "file_extension": ".py",
   "mimetype": "text/x-python",
   "name": "python",
   "nbconvert_exporter": "python",
   "pygments_lexer": "ipython3",
   "version": "3.9.7"
  },
  "orig_nbformat": 4
 },
 "nbformat": 4,
 "nbformat_minor": 2
}
