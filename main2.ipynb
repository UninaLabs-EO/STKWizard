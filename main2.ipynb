{
 "cells": [
  {
   "cell_type": "code",
   "execution_count": 1,
   "metadata": {},
   "outputs": [],
   "source": [
    "from STKBridge.Pipe import Pipeline"
   ]
  },
  {
   "cell_type": "code",
   "execution_count": 10,
   "metadata": {},
   "outputs": [
    {
     "name": "stdout",
     "output_type": "stream",
     "text": [
      "Connection execution successfully\n",
      "STK initialized.\n",
      "Satellite Added!\n",
      "Object: mysat fetched.\n",
      "Walker Delta constellation generated.\n",
      "Chain (Chain) object with sensors generated.\n",
      "Object: Chain fetched.\n",
      "Chain access computation for chain (Chain) executed.\n",
      "Object: Sensors fetched.\n",
      "Object: mysat fetched.\n",
      "Object: mysat11 fetched.\n",
      "Object: mysat12 fetched.\n",
      "Object: mysat13 fetched.\n",
      "Object: mysat14 fetched.\n",
      "Object: mysat21 fetched.\n",
      "Object: mysat22 fetched.\n",
      "Object: mysat23 fetched.\n",
      "Object: mysat24 fetched.\n",
      "Object: mysat31 fetched.\n",
      "Object: mysat32 fetched.\n",
      "Object: mysat33 fetched.\n",
      "Object: mysat34 fetched.\n",
      "Object: mysat41 fetched.\n",
      "Object: mysat42 fetched.\n",
      "Object: mysat43 fetched.\n",
      "Object: mysat44 fetched.\n",
      "Object: mysat51 fetched.\n",
      "Object: mysat52 fetched.\n",
      "Object: mysat53 fetched.\n",
      "Object: mysat54 fetched.\n",
      "Object: Chain fetched.\n",
      "Reset completed successfully.\n",
      "\n",
      "[19.70408142282856, 30808.464932661653, 20]\n"
     ]
    }
   ],
   "source": [
    "f = Pipeline()\n",
    "X = [6828.14, 96, 80, 5, 4, 1]\n",
    "sol = f.genSol(X)\n",
    "print(\"\\r\")\n",
    "print(sol)"
   ]
  },
  {
   "cell_type": "code",
   "execution_count": 12,
   "metadata": {},
   "outputs": [
    {
     "name": "stdout",
     "output_type": "stream",
     "text": [
      "0.3549653394045732\n"
     ]
    }
   ],
   "source": [
    "a,b,c =0.62, 0.25, 0.13\n",
    "val = a*(sol[0]/150) + b*(1-sol[1]/86400) + c*(1-sol[2]/150)\n",
    "print(val)"
   ]
  },
  {
   "cell_type": "code",
   "execution_count": null,
   "metadata": {},
   "outputs": [],
   "source": []
  }
 ],
 "metadata": {
  "interpreter": {
   "hash": "dfc7fd45ce818149375a5b4780a20ea6d062dee8435198f997ef5b7915835c63"
  },
  "kernelspec": {
   "display_name": "Python 3.9.7 64-bit ('SatWiz': conda)",
   "language": "python",
   "name": "python3"
  },
  "language_info": {
   "codemirror_mode": {
    "name": "ipython",
    "version": 3
   },
   "file_extension": ".py",
   "mimetype": "text/x-python",
   "name": "python",
   "nbconvert_exporter": "python",
   "pygments_lexer": "ipython3",
   "version": "3.9.7"
  },
  "orig_nbformat": 4
 },
 "nbformat": 4,
 "nbformat_minor": 2
}
