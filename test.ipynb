{
 "cells": [
  {
   "cell_type": "code",
   "execution_count": null,
   "metadata": {},
   "outputs": [],
   "source": [
    "\n",
    "# # NOTE: To run these code snippets, see FAQ \"Getting Started STK COM integration using Python\" at http://agiweb.force.com/faqs\n",
    "# # Start new instance of STK using win32com\n",
    "# from win32com.client import Dispatch\n",
    "# uiApplication = Dispatch('STK11.Application')\n",
    "# uiApplication.Visible = True\n",
    "\n",
    "# # Start new instance of STK using comtypes\n",
    "# from comtypes.client import CreateObject\n",
    "# uiApplication = CreateObject('STK11.Application')\n",
    "# uiApplication.Visible = True\n",
    "\n",
    "# # Get our IAgStkObjectRoot interface\n",
    "# root = uiApplication.Personality2"
   ]
  },
  {
   "cell_type": "code",
   "execution_count": null,
   "metadata": {},
   "outputs": [],
   "source": [
    "# import os\n",
    "\n",
    "# cwd = os.getcwd()\n",
    "# scenarioPath, scenarioName= cwd+'\\\\Project', 'MyProject'\n",
    "# root.LoadScenario(scenarioPath+'\\\\'+scenarioName+'.sc')"
   ]
  },
  {
   "cell_type": "code",
   "execution_count": null,
   "metadata": {},
   "outputs": [],
   "source": [
    "# Walk = root.CurrentScenario.Children (\"Walk\")\n"
   ]
  },
  {
   "cell_type": "code",
   "execution_count": null,
   "metadata": {},
   "outputs": [],
   "source": [
    "# sensor = Walk.Children.New(20,'MySensor') # eSensor\n"
   ]
  },
  {
   "cell_type": "code",
   "execution_count": null,
   "metadata": {},
   "outputs": [],
   "source": []
  },
  {
   "cell_type": "code",
   "execution_count": 2,
   "metadata": {},
   "outputs": [
    {
     "name": "stdout",
     "output_type": "stream",
     "text": [
      "Connection execution successfully\n"
     ]
    }
   ],
   "source": [
    "from STKBridge.fileHandler import STK\n",
    "# from comtypes.gen import STKObjects, STKUtil\n",
    "\n",
    "Stk = STK()"
   ]
  },
  {
   "cell_type": "code",
   "execution_count": 3,
   "metadata": {},
   "outputs": [],
   "source": [
    "root=Stk.root"
   ]
  },
  {
   "cell_type": "code",
   "execution_count": 5,
   "metadata": {},
   "outputs": [
    {
     "data": {
      "text/plain": [
       "'Walk'"
      ]
     },
     "execution_count": 5,
     "metadata": {},
     "output_type": "execute_result"
    }
   ],
   "source": [
    "Walk = root.CurrentScenario.Children(\"Walk\")\n",
    "Walk.InstanceName"
   ]
  },
  {
   "cell_type": "code",
   "execution_count": 11,
   "metadata": {},
   "outputs": [
    {
     "data": {
      "text/plain": [
       "<POINTER(IAgSnPtFixed) ptr=0x1ee69016a68 at 1ee6be6d5c0>"
      ]
     },
     "execution_count": 11,
     "metadata": {},
     "output_type": "execute_result"
    }
   ],
   "source": [
    "# sensor = Walk.Children.New(STKObjects.eSensor,'MySensor')\n",
    "sensor = Walk.Children.New(20,'MySensor') # eSensor\n",
    "sensor2 = sensor.QueryInterface(STKObjects.IAgSensor)\n",
    "# IAgSensor sensor: Sensor object\n",
    "# Change pattern and set\n",
    "# sensor2.CommonTasks.SetPatternRectangular(20,25)\n",
    "sensor2.CommonTasks.SetPatternSimpleConic(ConeAngle=10, AngularResolution=0.1)\n",
    "# Change pointing and set\n",
    "sensor2.CommonTasks.SetPointingFixedAzEl(90,-90,1) # eAzElAboutBoresightRotate\n",
    "# Change location and set\n",
    "# sensor2.SetLocationType(0) # eSnFixed"
   ]
  },
  {
   "cell_type": "code",
   "execution_count": 26,
   "metadata": {},
   "outputs": [],
   "source": [
    "# IAgStkObjectRoot root: STK Object Model Root\n",
    "sat = root.CurrentScenario.Children.New(18, 'MySatellite')  # eSatellite\n",
    "satellite = sat.QueryInterface(STKObjects.IAgSatellite)"
   ]
  },
  {
   "cell_type": "code",
   "execution_count": 1,
   "metadata": {},
   "outputs": [],
   "source": [
    "# satellite.Propagator"
   ]
  },
  {
   "cell_type": "code",
   "execution_count": 2,
   "metadata": {},
   "outputs": [],
   "source": [
    "# satellite.SetPropagatorType(2)  # ePropagatorJ4Perturbation\n",
    "# propagator = satellite.Propagator\n",
    "# propagator.Propagate()"
   ]
  },
  {
   "cell_type": "code",
   "execution_count": 3,
   "metadata": {},
   "outputs": [],
   "source": [
    "# # propagator.InitialState.Representation.AssignCartesian(11, 6678.14, 0, 0, 0, 6.78953, 3.68641)  # eCoordinateSystemICRF\n",
    "# pms=dict(ICRF=11, a=7578.14, e=0, i=98, w=0, RAAN=0, ni=0)\n",
    "# propagator.InitialState.Representation.AssignClassical(pms['ICRF'], pms['a'],pms['e'],pms['i'],pms['w'],pms['RAAN'],pms['ni'])"
   ]
  },
  {
   "cell_type": "code",
   "execution_count": null,
   "metadata": {},
   "outputs": [],
   "source": [
    "# propagator.Propagate()"
   ]
  },
  {
   "cell_type": "code",
   "execution_count": null,
   "metadata": {},
   "outputs": [],
   "source": [
    "# root.ExecuteCommand('Point */Satellite/Walk/Sensor/MySensor Fixed AzEl 90 -90')"
   ]
  },
  {
   "cell_type": "code",
   "execution_count": null,
   "metadata": {},
   "outputs": [],
   "source": [
    "# root.ExecuteCommand('Walker */Satellite/Walk Type Delta NumPlanes 2 NumSatsPerPlane 4 InterPlanePhaseIncrement 0 ColorByPlane Yes')\n",
    "cmd = 'Walker */Satellite/Walk Type Custom NumPlanes 2 NumSatsPerPlane 2 InterPlaneTrueAnomalyIncrement 30.0 RAANIncrement 180.0 ColorByPlane No ConstellationName MyConst'\n",
    "root.ExecuteCommand(cmd)"
   ]
  }
 ],
 "metadata": {
  "interpreter": {
   "hash": "dfc7fd45ce818149375a5b4780a20ea6d062dee8435198f997ef5b7915835c63"
  },
  "kernelspec": {
   "display_name": "Python 3.9.7 64-bit ('SatWiz': conda)",
   "language": "python",
   "name": "python3"
  },
  "language_info": {
   "codemirror_mode": {
    "name": "ipython",
    "version": 3
   },
   "file_extension": ".py",
   "mimetype": "text/x-python",
   "name": "python",
   "nbconvert_exporter": "python",
   "pygments_lexer": "ipython3",
   "version": "3.9.7"
  },
  "orig_nbformat": 4
 },
 "nbformat": 4,
 "nbformat_minor": 2
}
