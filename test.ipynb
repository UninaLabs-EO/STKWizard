{
 "cells": [
  {
   "cell_type": "code",
   "execution_count": 36,
   "metadata": {},
   "outputs": [
    {
     "data": {
      "text/html": [
       "<div>\n",
       "<style scoped>\n",
       "    .dataframe tbody tr th:only-of-type {\n",
       "        vertical-align: middle;\n",
       "    }\n",
       "\n",
       "    .dataframe tbody tr th {\n",
       "        vertical-align: top;\n",
       "    }\n",
       "\n",
       "    .dataframe thead th {\n",
       "        text-align: right;\n",
       "    }\n",
       "</style>\n",
       "<table border=\"1\" class=\"dataframe\">\n",
       "  <thead>\n",
       "    <tr style=\"text-align: right;\">\n",
       "      <th></th>\n",
       "      <th>Unnamed: 0</th>\n",
       "      <th>a1</th>\n",
       "      <th>a2</th>\n",
       "      <th>RAAN1</th>\n",
       "      <th>RAAN2</th>\n",
       "    </tr>\n",
       "  </thead>\n",
       "  <tbody>\n",
       "    <tr>\n",
       "      <th>0</th>\n",
       "      <td>0</td>\n",
       "      <td>6836</td>\n",
       "      <td>6863</td>\n",
       "      <td>319</td>\n",
       "      <td>278</td>\n",
       "    </tr>\n",
       "    <tr>\n",
       "      <th>1</th>\n",
       "      <td>1</td>\n",
       "      <td>6870</td>\n",
       "      <td>6842</td>\n",
       "      <td>321</td>\n",
       "      <td>179</td>\n",
       "    </tr>\n",
       "    <tr>\n",
       "      <th>2</th>\n",
       "      <td>2</td>\n",
       "      <td>6821</td>\n",
       "      <td>6843</td>\n",
       "      <td>3</td>\n",
       "      <td>134</td>\n",
       "    </tr>\n",
       "  </tbody>\n",
       "</table>\n",
       "</div>"
      ],
      "text/plain": [
       "   Unnamed: 0    a1    a2  RAAN1  RAAN2\n",
       "0           0  6836  6863    319    278\n",
       "1           1  6870  6842    321    179\n",
       "2           2  6821  6843      3    134"
      ]
     },
     "execution_count": 36,
     "metadata": {},
     "output_type": "execute_result"
    }
   ],
   "source": [
    "import pandas as pd  \n",
    "\n",
    "\n",
    "df = pd.read_csv('gen_0.csv')\n",
    "df = df.drop(columns=['Eval','Users'])\n",
    "# df.drop(df.shape[-1])\n",
    "df\n",
    "# df.iloc[:, ~df.columns.str.contains('Eval')]\n",
    "# df.iloc[0, ~df.columns.str.contains('Eval')]"
   ]
  },
  {
   "cell_type": "code",
   "execution_count": 40,
   "metadata": {},
   "outputs": [
    {
     "name": "stdout",
     "output_type": "stream",
     "text": [
      "True\n"
     ]
    }
   ],
   "source": [
    "if True and not False and True:\n",
    "     print('True')\n",
    "else:\n",
    "     print('False')"
   ]
  },
  {
   "cell_type": "code",
   "execution_count": null,
   "metadata": {},
   "outputs": [],
   "source": [
    "\n",
    "# # NOTE: To run these code snippets, see FAQ \"Getting Started STK COM integration using Python\" at http://agiweb.force.com/faqs\n",
    "# # Start new instance of STK using win32com\n",
    "# from win32com.client import Dispatch\n",
    "# uiApplication = Dispatch('STK11.Application')\n",
    "# uiApplication.Visible = True\n",
    "\n",
    "# # Start new instance of STK using comtypes\n",
    "# from comtypes.client import CreateObject\n",
    "# uiApplication = CreateObject('STK11.Application')\n",
    "# uiApplication.Visible = True\n",
    "\n",
    "# # Get our IAgStkObjectRoot interface\n",
    "# root = uiApplication.Personality2"
   ]
  },
  {
   "cell_type": "code",
   "execution_count": null,
   "metadata": {},
   "outputs": [],
   "source": [
    "# import os\n",
    "\n",
    "# cwd = os.getcwd()\n",
    "# scenarioPath, scenarioName= cwd+'\\\\Project', 'MyProject'\n",
    "# root.LoadScenario(scenarioPath+'\\\\'+scenarioName+'.sc')"
   ]
  },
  {
   "cell_type": "code",
   "execution_count": null,
   "metadata": {},
   "outputs": [],
   "source": [
    "# Walk = root.CurrentScenario.Children (\"Walk\")\n"
   ]
  },
  {
   "cell_type": "code",
   "execution_count": 9,
   "metadata": {},
   "outputs": [],
   "source": [
    "import numpy as np\n",
    "m = np.mean([0,2,4,6])\n",
    "\n",
    "assert type(m) == np.float64\n",
    "\n"
   ]
  },
  {
   "cell_type": "code",
   "execution_count": null,
   "metadata": {},
   "outputs": [],
   "source": []
  },
  {
   "cell_type": "code",
   "execution_count": null,
   "metadata": {},
   "outputs": [],
   "source": [
    "from STKBridge.Connection import STK\n",
    "# from comtypes.gen import STKObjects, STKUtil\n",
    "\n",
    "Stk = STK()"
   ]
  },
  {
   "cell_type": "code",
   "execution_count": null,
   "metadata": {},
   "outputs": [],
   "source": [
    "root=Stk.root"
   ]
  },
  {
   "cell_type": "code",
   "execution_count": null,
   "metadata": {},
   "outputs": [],
   "source": [
    "from comtypes.gen import STKUtil\n",
    "from comtypes.gen import STKObjects\n",
    "from time import sleep\n",
    "SatName = 'mysat'\n",
    "\n",
    "\n",
    "\n",
    "try:\n",
    "     # First satellite object must be created:\n",
    "     sat = root.CurrentScenario.Children.New(18, SatName)  # eSatellite\n",
    "     # IAgStkObjectRoot root: STK Object Model Root\n",
    "     satellite = sat.QueryInterface(STKObjects.IAgSatellite) # Interface\n",
    "except:\n",
    "     print('Not possible to create Satellite.')\n",
    "try:\n",
    "     sleep(1) # Sleep for 1 second\n",
    "     root.ExecuteCommand('SetUnits / km') # Default Connect Units are meters\n",
    "     root.ExecuteCommand(f'SetState */Satellite/{SatName} Classical J4Perturbation \"UseAnalysisStartTime\" \"UseAnalysisStopTime\" 60 ICRF \"UseAnalysisStartTime\" {params[\"a\"]} {params[\"e\"]} {params[\"i\"]} {params[\"w\"]} {params[\"RAAN\"]} {params[\"M\"]}')\n",
    "     # print('Satellite Added!')\n",
    "except:\n",
    "     print('Not possible to modify Sat propagation.')"
   ]
  },
  {
   "cell_type": "code",
   "execution_count": null,
   "metadata": {},
   "outputs": [],
   "source": [
    "def removeSeed(self):\n",
    "     scenario = self.root.Children.Item(0)\n",
    "\n",
    "     for i in range(scenario.Children.Count):\n",
    "          child = scenario.Children.Item(i)\n",
    "          if child.InstanceName == \"mysat\":\n",
    "               SEED = child\n",
    "\n",
    "     res = SEED.Unload()\n",
    "     return res\n"
   ]
  },
  {
   "cell_type": "code",
   "execution_count": 3,
   "metadata": {},
   "outputs": [
    {
     "name": "stdout",
     "output_type": "stream",
     "text": [
      "97.0305290630202\n"
     ]
    }
   ],
   "source": [
    "import numpy as np\n",
    "from utils import computeSunSyncInclination\n",
    "\n",
    "a1 = 6778\n",
    "a2 = 6888\n",
    "\n",
    "cosi = -(a1/12352)**(7/2)\n",
    "i = np.arccos(cosi)*180/np.pi\n",
    "print(i*180/np.pi)\n",
    "# computeSunSyncInclination(a1,0)\n",
    "\n"
   ]
  },
  {
   "cell_type": "code",
   "execution_count": null,
   "metadata": {},
   "outputs": [],
   "source": [
    "def removeSeed(root):\n",
    "     scenario = root.Children.Item(0)\n",
    "\n",
    "     for i in range(scenario.Children.Count):\n",
    "          child = scenario.Children.Item(i)\n",
    "          if child.InstanceName == \"mysat\":\n",
    "               SEED = child\n",
    "\n",
    "     res = SEED.Unload()\n",
    "     return res\n",
    "removeSeed(root)"
   ]
  },
  {
   "cell_type": "code",
   "execution_count": null,
   "metadata": {},
   "outputs": [],
   "source": [
    "root.ExecuteCommand('Parallel /Scenario/Inserimento Configuration ParallelType Local ShutdownLocalWorkersOnJobCompletion On AutomaticallyComputeInParallel On')\n",
    "# root.ExecuteCommand('Parallel /  AutomaticallyComputeInParallel On')\n",
    "# root.ExecuteCommand('Parallel / ShutdownLocalWorkers ShutdownLocalWorkersOnJobCompletion On')"
   ]
  },
  {
   "cell_type": "code",
   "execution_count": null,
   "metadata": {},
   "outputs": [],
   "source": [
    "Walk = root.CurrentScenario.Children(\"Walk\")\n",
    "Walk.InstanceName"
   ]
  },
  {
   "cell_type": "code",
   "execution_count": null,
   "metadata": {},
   "outputs": [],
   "source": [
    "# sensor = Walk.Children.New(STKObjects.eSensor,'MySensor')\n",
    "sensor = Walk.Children.New(20,'MySensor') # eSensor\n",
    "sensor2 = sensor.QueryInterface(STKObjects.IAgSensor)\n",
    "# IAgSensor sensor: Sensor object\n",
    "# Change pattern and set\n",
    "# sensor2.CommonTasks.SetPatternRectangular(20,25)\n",
    "sensor2.CommonTasks.SetPatternSimpleConic(ConeAngle=10, AngularResolution=0.1)\n",
    "# Change pointing and set\n",
    "sensor2.CommonTasks.SetPointingFixedAzEl(90,-90,1) # eAzElAboutBoresightRotate\n",
    "# Change location and set\n",
    "# sensor2.SetLocationType(0) # eSnFixed"
   ]
  },
  {
   "cell_type": "code",
   "execution_count": null,
   "metadata": {},
   "outputs": [],
   "source": [
    "# IAgStkObjectRoot root: STK Object Model Root\n",
    "sat = root.CurrentScenario.Children.New(18, 'MySatellite')  # eSatellite\n",
    "satellite = sat.QueryInterface(STKObjects.IAgSatellite)"
   ]
  },
  {
   "cell_type": "code",
   "execution_count": null,
   "metadata": {},
   "outputs": [],
   "source": [
    "# satellite.Propagator"
   ]
  },
  {
   "cell_type": "code",
   "execution_count": null,
   "metadata": {},
   "outputs": [],
   "source": [
    "# satellite.SetPropagatorType(2)  # ePropagatorJ4Perturbation\n",
    "# propagator = satellite.Propagator\n",
    "# propagator.Propagate()"
   ]
  },
  {
   "cell_type": "code",
   "execution_count": null,
   "metadata": {},
   "outputs": [],
   "source": [
    "# # propagator.InitialState.Representation.AssignCartesian(11, 6678.14, 0, 0, 0, 6.78953, 3.68641)  # eCoordinateSystemICRF\n",
    "# pms=dict(ICRF=11, a=7578.14, e=0, i=98, w=0, RAAN=0, ni=0)\n",
    "# propagator.InitialState.Representation.AssignClassical(pms['ICRF'], pms['a'],pms['e'],pms['i'],pms['w'],pms['RAAN'],pms['ni'])"
   ]
  },
  {
   "cell_type": "code",
   "execution_count": null,
   "metadata": {},
   "outputs": [],
   "source": [
    "# propagator.Propagate()"
   ]
  },
  {
   "cell_type": "code",
   "execution_count": null,
   "metadata": {},
   "outputs": [],
   "source": [
    "# root.ExecuteCommand('Point */Satellite/Walk/Sensor/MySensor Fixed AzEl 90 -90')"
   ]
  },
  {
   "cell_type": "code",
   "execution_count": null,
   "metadata": {},
   "outputs": [],
   "source": [
    "# root.ExecuteCommand('Walker */Satellite/Walk Type Delta NumPlanes 2 NumSatsPerPlane 4 InterPlanePhaseIncrement 0 ColorByPlane Yes')\n",
    "cmd = 'Walker */Satellite/Walk Type Custom NumPlanes 2 NumSatsPerPlane 2 InterPlaneTrueAnomalyIncrement 30.0 RAANIncrement 180.0 ColorByPlane No ConstellationName MyConst'\n",
    "root.ExecuteCommand(cmd)"
   ]
  }
 ],
 "metadata": {
  "interpreter": {
   "hash": "dfc7fd45ce818149375a5b4780a20ea6d062dee8435198f997ef5b7915835c63"
  },
  "kernelspec": {
   "display_name": "Python 3.9.7 64-bit ('SatWiz': conda)",
   "language": "python",
   "name": "python3"
  },
  "language_info": {
   "codemirror_mode": {
    "name": "ipython",
    "version": 3
   },
   "file_extension": ".py",
   "mimetype": "text/x-python",
   "name": "python",
   "nbconvert_exporter": "python",
   "pygments_lexer": "ipython3",
   "version": "3.9.7"
  },
  "orig_nbformat": 4
 },
 "nbformat": 4,
 "nbformat_minor": 2
}
