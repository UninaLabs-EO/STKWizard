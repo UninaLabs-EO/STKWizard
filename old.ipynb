{
 "cells": [
  {
   "cell_type": "code",
   "execution_count": 1,
   "metadata": {},
   "outputs": [
    {
     "name": "stdout",
     "output_type": "stream",
     "text": [
      "Connection execution successfully\n"
     ]
    }
   ],
   "source": [
    "from STKBridge.Connection import STK\n",
    "from comtypes.gen import STKObjects, STKUtil\n",
    "from STKBridge.eval import evaluator\n",
    "\n",
    "Stk = STK()\n",
    "root=Stk.root"
   ]
  },
  {
   "cell_type": "code",
   "execution_count": 2,
   "metadata": {},
   "outputs": [
    {
     "name": "stdout",
     "output_type": "stream",
     "text": [
      "Satellite Added!\n",
      "Object: mysat fetched.\n",
      "Walker Delta constellation generated.\n",
      "Chain (Chain) object with sensors generated.\n",
      "Object: Chain fetched.\n",
      "Chain access computation for chain (Chain) executed.\n"
     ]
    }
   ],
   "source": [
    "Stk.addSatellite(SatName='mysat', params={'a':6828.14, 'e':0,'i':99, 'w':0, 'RAAN':80, 'M':10.5})\n",
    "Stk.addSensor(SatName='mysat', SenName='Sensor1', params={'coneAngle':15, 'angularResolution':0.1, 'AzEl':[90,-90], 'maxRange':1200})\n",
    "# Stk.WalkerDelta(SatName='mysat', params={'NumPlanes':1, 'NumSatsPerPlane':10, 'InterPlaneTrueAnomalyIncrement': 5, 'RAANIncrement': 15, 'ColorByPlane': 'Yes', 'ConstellationName':'Sensors'})\n",
    "Stk.WalkerDelta(SatName='mysat', params={'NumPlanes':3, 'NumSatsPerPlane':5, 'InterPlaneTrueAnomalyIncrement': 5, 'RAANIncrement': 2, 'ColorByPlane': 'Yes'})\n",
    "Stk.CreateConstellationObject(ConstellationName='Sensors')\n",
    "Stk.CreateChainObject(pathObjToAdd=['Constellation/AllUsers', 'Constellation/Sensors'], chainName='Chain')\n",
    "usersList, AccessDict = Stk._computeChain(chainName='Chain')\n",
    "mWin, mGap = evaluator(usersList, AccessDict)"
   ]
  },
  {
   "cell_type": "code",
   "execution_count": 3,
   "metadata": {},
   "outputs": [
    {
     "data": {
      "text/plain": [
       "(21.725739020746737, 41495.157377862386)"
      ]
     },
     "execution_count": 3,
     "metadata": {},
     "output_type": "execute_result"
    }
   ],
   "source": [
    "mWin, mGap"
   ]
  },
  {
   "cell_type": "code",
   "execution_count": null,
   "metadata": {},
   "outputs": [],
   "source": [
    "Stk._reset()\n"
   ]
  },
  {
   "cell_type": "markdown",
   "metadata": {},
   "source": [
    "### Create Report"
   ]
  },
  {
   "cell_type": "code",
   "execution_count": null,
   "metadata": {},
   "outputs": [],
   "source": [
    "# chainAnalysis(root=root, chainPath='*/Chain/Chain', objsToAdd=[], startTime='UseAnalysisStartTime', stopTime='UseAnalysisStopTime' , exportFileName='testChain.csv', StyleName='prova')"
   ]
  }
 ],
 "metadata": {
  "interpreter": {
   "hash": "202e2045b49958a074948b2e0c285a85bcb40cad1161c0d9c8c38fa298e2ad79"
  },
  "kernelspec": {
   "display_name": "Python 3.9.7 64-bit ('SatWiz': conda)",
   "language": "python",
   "name": "python3"
  },
  "language_info": {
   "codemirror_mode": {
    "name": "ipython",
    "version": 3
   },
   "file_extension": ".py",
   "mimetype": "text/x-python",
   "name": "python",
   "nbconvert_exporter": "python",
   "pygments_lexer": "ipython3",
   "version": "3.9.7"
  },
  "orig_nbformat": 4
 },
 "nbformat": 4,
 "nbformat_minor": 2
}
