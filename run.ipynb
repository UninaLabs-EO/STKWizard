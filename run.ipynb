{
 "cells": [
  {
   "cell_type": "code",
   "execution_count": 1,
   "metadata": {},
   "outputs": [
    {
     "name": "stdout",
     "output_type": "stream",
     "text": [
      "Connection execution successfully\n",
      "STK initialized.\n"
     ]
    }
   ],
   "source": [
    "from Core.EvAlgo import GA\n",
    "from STKBridge.Pipe import Pipeline\n",
    "\n",
    "f = Pipeline()\n",
    "\n",
    "class Optimizer(GA):\n",
    "\n",
    "     def __init__(self, popSize, nGenerations, nVar, nObj, toKeep, nParents=25):\n",
    "          super().__init__(popSize=popSize, nGenerations=nGenerations, nVar=nVar, nObj=nObj, toKeep=toKeep, nParents=nParents)\n",
    "          self.idxGen = 0\n",
    "\n",
    "     def run(self, startWith=None):\n",
    "          if startWith is not None:\n",
    "               self.idxGen = startWith+1\n",
    "               super().InitialPopIdx(startWith) # Obtain Parents\n",
    "               \n",
    "          while self.idxGen < self.nGenerations:\n",
    "               super().popolate()\n",
    "               super().duplicateRemover()\n",
    "               super().evaluate(function=lambda x: f.genSol(x))\n",
    "               super().survival(sortBy='Eval')\n",
    "               print(f'Gen {self.idxGen} completed.')\n",
    "               self.idxGen += 1\n"
   ]
  },
  {
   "cell_type": "code",
   "execution_count": 2,
   "metadata": {},
   "outputs": [],
   "source": [
    "Alg = Optimizer(popSize=50, nGenerations = 20, nVar=6, nObj=1, toKeep=5)"
   ]
  },
  {
   "cell_type": "code",
   "execution_count": 3,
   "metadata": {},
   "outputs": [],
   "source": [
    "Alg.run(startWith=2)"
   ]
  },
  {
   "cell_type": "code",
   "execution_count": null,
   "metadata": {},
   "outputs": [],
   "source": []
  }
 ],
 "metadata": {
  "interpreter": {
   "hash": "dfc7fd45ce818149375a5b4780a20ea6d062dee8435198f997ef5b7915835c63"
  },
  "kernelspec": {
   "display_name": "Python 3.9.7 64-bit ('SatWiz': conda)",
   "language": "python",
   "name": "python3"
  },
  "language_info": {
   "codemirror_mode": {
    "name": "ipython",
    "version": 3
   },
   "file_extension": ".py",
   "mimetype": "text/x-python",
   "name": "python",
   "nbconvert_exporter": "python",
   "pygments_lexer": "ipython3",
   "version": "3.9.7"
  },
  "orig_nbformat": 4
 },
 "nbformat": 4,
 "nbformat_minor": 2
}
