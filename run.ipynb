{
 "cells": [
  {
   "cell_type": "code",
   "execution_count": null,
   "metadata": {},
   "outputs": [],
   "source": [
    "from Core.EvAlgo import GA\n",
    "from STKBridge.Pipe import Pipeline\n",
    "\n",
    "f = Pipeline()\n",
    "\n",
    "class Optimizer(GA):\n",
    "\n",
    "     def __init__(self, popSize, nGenerations, nVar, nObj, toKeep):\n",
    "          super().__init__(popSize=popSize, nGenerations=nGenerations, nVar=nVar, nObj=nObj, toKeep=toKeep)\n",
    "          self.idxGen = 0\n",
    "\n",
    "     def run(self):\n",
    "          while self.idxGen < self.nGenerations:\n",
    "               super().popolate()\n",
    "               super().duplicateRemover()\n",
    "               super().evaluate(function=lambda x: f.genSol(x))\n",
    "               super().survival(nParents=30, sortBy='Eval')\n",
    "               self.idxGen += 1"
   ]
  },
  {
   "cell_type": "code",
   "execution_count": null,
   "metadata": {},
   "outputs": [],
   "source": [
    "Algo = Optimizer(popSize=100, nGenerations=100, nVar=6, nObj=1, toKeep=10)\n",
    "Algo.run()"
   ]
  }
 ],
 "metadata": {
  "interpreter": {
   "hash": "dfc7fd45ce818149375a5b4780a20ea6d062dee8435198f997ef5b7915835c63"
  },
  "kernelspec": {
   "display_name": "Python 3.9.7 64-bit ('SatWiz': conda)",
   "language": "python",
   "name": "python3"
  },
  "language_info": {
   "codemirror_mode": {
    "name": "ipython",
    "version": 3
   },
   "file_extension": ".py",
   "mimetype": "text/x-python",
   "name": "python",
   "nbconvert_exporter": "python",
   "pygments_lexer": "ipython3",
   "version": "3.9.7"
  },
  "orig_nbformat": 4
 },
 "nbformat": 4,
 "nbformat_minor": 2
}
