{
 "cells": [
  {
   "cell_type": "code",
   "execution_count": 9,
   "metadata": {},
   "outputs": [],
   "source": [
    "from glob import glob\n",
    "from shutil import copyfile\n",
    "import os\n",
    "from pathlib import Path\n",
    "\n",
    "def moveCSV(outfolder: str = 'out'):\n",
    "     outfolder = 'output'\n",
    "     os.makedirs(outfolder, exist_ok=True)\n",
    "     dst = Path(outfolder)\n",
    "\n",
    "     generations = glob('*.csv')\n",
    "     for gen in generations:\n",
    "          src = Path(gen)\n",
    "          copyfile(src, dst / src.name)\n",
    "          os.remove(src)"
   ]
  },
  {
   "cell_type": "code",
   "execution_count": 4,
   "metadata": {},
   "outputs": [
    {
     "name": "stdout",
     "output_type": "stream",
     "text": [
      "0\n",
      "1\n",
      "2\n"
     ]
    }
   ],
   "source": [
    "for i in range(3):\n",
    "     print(i)"
   ]
  }
 ],
 "metadata": {
  "interpreter": {
   "hash": "1566de1cec6f2d122d369748d4b57461da7d0055bdf78b78e9712739e4c024f2"
  },
  "kernelspec": {
   "display_name": "Python 3.9.7 ('SatWiz')",
   "language": "python",
   "name": "python3"
  },
  "language_info": {
   "codemirror_mode": {
    "name": "ipython",
    "version": 3
   },
   "file_extension": ".py",
   "mimetype": "text/x-python",
   "name": "python",
   "nbconvert_exporter": "python",
   "pygments_lexer": "ipython3",
   "version": "3.9.7"
  },
  "orig_nbformat": 4
 },
 "nbformat": 4,
 "nbformat_minor": 2
}
